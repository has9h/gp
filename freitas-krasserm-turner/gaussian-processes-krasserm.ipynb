{
 "cells": [
  {
   "cell_type": "code",
   "execution_count": 79,
   "metadata": {},
   "outputs": [
    {
     "data": {
      "text/plain": [
       "'C:\\\\ProgramData\\\\Anaconda3\\\\python.exe'"
      ]
     },
     "execution_count": 79,
     "metadata": {},
     "output_type": "execute_result"
    }
   ],
   "source": [
    "# Find running python kernel\n",
    "import sys\n",
    "sys.executable"
   ]
  },
  {
   "cell_type": "code",
   "execution_count": 1,
   "metadata": {},
   "outputs": [],
   "source": [
    "# General imports\n",
    "import time\n",
    "import numpy as np\n",
    "import matplotlib.pyplot as plt\n",
    "import pandas as pd\n",
    "\n",
    "from IPython.display import display\n",
    "from matplotlib import animation, cm\n",
    "from mpl_toolkits.mplot3d import Axes3D\n",
    "%matplotlib inline"
   ]
  },
  {
   "cell_type": "markdown",
   "metadata": {},
   "source": [
    "## Custom Functions"
   ]
  },
  {
   "cell_type": "code",
   "execution_count": 2,
   "metadata": {},
   "outputs": [],
   "source": [
    "def kernel(X1, X2, l=1.0, sigma_f=1.0):\n",
    "    \"\"\"\n",
    "    Isotropic squared exponential kernel.\n",
    "    \n",
    "    Args:`\n",
    "\n",
    "    Returns:\n",
    "        (m x n) matrix.\n",
    "    \"\"\"\n",
    "    sqdist = np.sum(X1**2, 1).reshape(-1, 1) + np.sum(X2**2, 1) - 2 * np.dot(X1, X2.T)\n",
    "    return sigma_f**2 * np.exp(-0.5 / l**2 * sqdist)\n"
   ]
  },
  {
   "cell_type": "code",
   "execution_count": 3,
   "metadata": {},
   "outputs": [],
   "source": [
    "def plot_gp(mu, cov, X, X_train=None, Y_train=None, samples=[]):\n",
    "    X = X.ravel()\n",
    "    mu = mu.ravel()\n",
    "    uncertainty = 1.96 * np.sqrt(np.diag(cov))\n",
    "    \n",
    "    plt.fill_between(X, mu + uncertainty, mu - uncertainty, alpha=0.1)\n",
    "    plt.plot(X, mu, label='Mean')\n",
    "    for i, sample in enumerate(samples):\n",
    "        plt.plot(X, sample, lw=1, ls='--', label=f'Sample {i+1}')\n",
    "    if X_train is not None:\n",
    "        plt.plot(X_train, Y_train, 'rx')\n",
    "    plt.legend()\n"
   ]
  },
  {
   "cell_type": "markdown",
   "metadata": {},
   "source": [
    "## Prior on 1D Data"
   ]
  },
  {
   "cell_type": "code",
   "execution_count": 4,
   "metadata": {},
   "outputs": [],
   "source": [
    "# Finite number of points\n",
    "X = np.arange(-5, 5, 0.2).reshape(-1, 1)\n",
    "\n",
    "# Mean and covariance of the prior\n",
    "mu = np.zeros(X.shape)\n",
    "cov = kernel(X, X)\n",
    "\n",
    "# Draw three samples from the prior\n",
    "samples = np.random.multivariate_normal(mu.ravel(), cov, 3)\n",
    "\n",
    "# Plot GP mean, uncertainty region and samples \n",
    "# plot_gp(mu, cov, X, samples=samples)\n"
   ]
  },
  {
   "cell_type": "markdown",
   "metadata": {},
   "source": [
    "# Posterior\n",
    "\n",
    "## Prediction from noise-free training data\n",
    "\n",
    "Given a training dataset with noise-free function values $\\mathbf{f}$ at inputs $\\mathbf{X}$, a GP prior can be converted into a GP posterior $p(\\mathbf{f}^* \\vert \\mathbf{X}^*, \\mathbf{X}, \\mathbf{f})$ which can then be used to make predictions $\\mathbf{f}^*$ at new inputs $\\mathbf{X}^*$. By definition of a GP, the joint distribution of observed values $\\mathbf{f}$ and predictions $\\mathbf{f}^*$ is again a Gaussian which can be partitioned into\n",
    "\n",
    "$$\n",
    "\\begin{pmatrix}\n",
    "    \\mathbf{f} \\\\\n",
    "    \\mathbf{f}_*\n",
    "\\end{pmatrix} \\sim \\mathcal{N}\n",
    "\\left(\\boldsymbol{0},\n",
    "\\begin{pmatrix}\n",
    "    \\mathbf{K} & \\mathbf{K}_* \\\\\n",
    "    \\mathbf{K}_*^T & \\mathbf{K}_{**}\n",
    "\\end{pmatrix}\n",
    "\\right)\\tag{2}\n",
    "$$\n",
    "\n",
    "$$\n",
    "\\begin{align*}\n",
    "p(\\mathbf{f}_* \\lvert \\mathbf{X}_*,\\mathbf{X},\\mathbf{f}) &= \\mathcal{N}(\\mathbf{f}_* \\lvert \\boldsymbol{\\mu}_*, \\boldsymbol{\\Sigma}_*) \\\\\n",
    "\\boldsymbol{\\mu_*} &= \\mathbf{K}_*^T \\mathbf{K}^{-1} \\mathbf{f} \\\\\n",
    "\\boldsymbol{\\Sigma_*} &= \\mathbf{K}_{**} - \\mathbf{K}_*^T \\mathbf{K}^{-1} \\mathbf{K}_*\n",
    "\\end{align*}\n",
    "$$"
   ]
  },
  {
   "cell_type": "code",
   "execution_count": 5,
   "metadata": {},
   "outputs": [],
   "source": [
    "from numpy.linalg import inv\n",
    "\n",
    "def posterior(X_s, X_train, Y_train, l=1.0, sigma_f=1.0, sigma_y=1e-8):\n",
    "    \"\"\"\n",
    "    Computes the suffifient statistics of the posterior distribution \n",
    "    from m training data X_train and Y_train and n new inputs X_s.\n",
    "    \n",
    "    Args:\n",
    "        X_s: New input locations (n x d).\n",
    "        X_train: Training locations (m x d).\n",
    "        Y_train: Training targets (m x 1).\n",
    "        l: Kernel length parameter.\n",
    "        sigma_f: Kernel vertical variation parameter.\n",
    "        sigma_y: Noise parameter.\n",
    "    \n",
    "    Returns:\n",
    "        Posterior mean vector (n x d) and covariance matrix (n x n).\n",
    "    \"\"\"\n",
    "    K = kernel(X_train, X_train, l, sigma_f) + sigma_y**2 * np.eye(len(X_train))\n",
    "    K_s = kernel(X_train, X_s, l, sigma_f)\n",
    "    K_ss = kernel(X_s, X_s, l, sigma_f) + 1e-8 * np.eye(len(X_s))\n",
    "    K_inv = inv(K)\n",
    "    \n",
    "    # Equation (7)\n",
    "    mu_s = K_s.T.dot(K_inv).dot(Y_train)\n",
    "\n",
    "    # Equation (8)\n",
    "    cov_s = K_ss - K_s.T.dot(K_inv).dot(K_s)\n",
    "    \n",
    "    return mu_s, cov_s\n"
   ]
  },
  {
   "cell_type": "markdown",
   "metadata": {},
   "source": [
    "### 1D Train Data"
   ]
  },
  {
   "cell_type": "code",
   "execution_count": null,
   "metadata": {},
   "outputs": [],
   "source": [
    "# Noise free training data\n",
    "X_train = np.array([-4, -3, -2, -1, 1]).reshape(-1, 1)\n",
    "Y_train = np.sin(X_train)"
   ]
  },
  {
   "cell_type": "code",
   "execution_count": null,
   "metadata": {},
   "outputs": [],
   "source": [
    "# Compute mean and covariance of the posterior distribution\n",
    "mu_s, cov_s = posterior(X, X_train, Y_train)\n",
    "\n",
    "samples = np.random.multivariate_normal(mu_s.ravel(), cov_s, 3)\n",
    "# plot_gp(mu_s, cov_s, X, X_train=X_train, Y_train=Y_train, samples=samples)\n"
   ]
  },
  {
   "cell_type": "markdown",
   "metadata": {},
   "source": [
    "## 1D Prediction from noisy training data"
   ]
  },
  {
   "cell_type": "code",
   "execution_count": null,
   "metadata": {},
   "outputs": [],
   "source": [
    "noise = 0.4\n",
    "\n",
    "# Noisy training data\n",
    "X_train = np.arange(-3, 4, 1).reshape(-1, 1)\n",
    "Y_train = np.sin(X_train) + noise * np.random.randn(*X_train.shape)\n",
    "\n",
    "# Compute mean and covariance of the posterior distribution\n",
    "mu_s, cov_s = posterior(X, X_train, Y_train, sigma_y=noise)\n",
    "\n",
    "samples = np.random.multivariate_normal(mu_s.ravel(), cov_s, 3)\n",
    "plot_gp(mu_s, cov_s, X, X_train=X_train, Y_train=Y_train, samples=samples)\n"
   ]
  },
  {
   "cell_type": "markdown",
   "metadata": {},
   "source": [
    "# Optimization"
   ]
  },
  {
   "cell_type": "markdown",
   "metadata": {},
   "source": [
    "Optimal values for the kernel parameters $l$ and $\\sigma_f$, as well as the noise parameter $\\sigma_y$ can be estimated by maximizing the log marginal likelihood which is given by\n",
    "\n",
    "$$\n",
    "\\log p(\\mathbf{y} \\lvert \\mathbf{X}) = \n",
    "\\log \\mathcal{N}(\\mathbf{y} \\lvert \\boldsymbol{0}, \\mathbf{K}_y) =\n",
    "-\\frac{1}{2} \\mathbf{y}^T \\mathbf{K}_y^{-1} \\mathbf{y} \n",
    "-\\frac{1}{2} \\log \\begin{vmatrix}\\mathbf{K}_y\\end{vmatrix} \n",
    "-\\frac{N}{2} \\log(2\\pi)\n",
    "$$\n",
    "\n",
    "We will minimize the negative log marginal likelihood w.r.t. parameters $l$ and $\\sigma_f$. $\\sigma_y$ is set to the known noise level of the data. If the noise level is unknown, σy can be estimated as well along with the other parameters."
   ]
  },
  {
   "cell_type": "code",
   "execution_count": null,
   "metadata": {},
   "outputs": [],
   "source": [
    "from numpy.linalg import cholesky, det\n",
    "from scipy.linalg import solve_triangular\n",
    "from scipy.optimize import minimize\n",
    "\n",
    "def nll_fn(X_train, Y_train, noise, naive=True):\n",
    "    \"\"\"\n",
    "    Returns a function that computes the negative log marginal\n",
    "    likelihood for training data X_train and Y_train and given\n",
    "    noise level.\n",
    "\n",
    "    Args:\n",
    "        X_train: training locations (m x d).\n",
    "        Y_train: training targets (m x 1).\n",
    "        noise: known noise level of Y_train.\n",
    "        naive: if True use a naive implementation of Eq. (11), if\n",
    "               False use a numerically more stable implementation.\n",
    "\n",
    "    Returns:\n",
    "        Minimization objective.\n",
    "    \"\"\"\n",
    "    \n",
    "    Y_train = Y_train.ravel()\n",
    "    \n",
    "    def nll_naive(theta):\n",
    "        # Naive implementation of the log marginal likelihood. Works well \n",
    "        # for the examples in this article but is numerically less stable \n",
    "        # compared to the implementation in nll_stable below.\n",
    "        K = kernel(X_train, X_train, l=theta[0], sigma_f=theta[1]) + \\\n",
    "            noise**2 * np.eye(len(X_train))\n",
    "        return 0.5 * np.log(det(K)) + \\\n",
    "               0.5 * Y_train.dot(inv(K).dot(Y_train)) + \\\n",
    "               0.5 * len(X_train) * np.log(2*np.pi)\n",
    "        \n",
    "    def nll_stable(theta):\n",
    "        # Numerically more stable implementation of the log marginal likelihood \n",
    "        # as described in http://www.gaussianprocess.org/gpml/chapters/RW2.pdf, \n",
    "        # Section 2.2, Algorithm 2.1.\n",
    "        \n",
    "        K = kernel(X_train, X_train, l=theta[0], sigma_f=theta[1]) + \\\n",
    "            noise**2 * np.eye(len(X_train))\n",
    "        L = cholesky(K)\n",
    "        \n",
    "        S1 = solve_triangular(L, Y_train, lower=True)\n",
    "        S2 = solve_triangular(L.T, S1, lower=False)\n",
    "        \n",
    "        return np.sum(np.log(np.diagonal(L))) + \\\n",
    "               0.5 * Y_train.dot(S2) + \\\n",
    "               0.5 * len(X_train) * np.log(2*np.pi)\n",
    "\n",
    "    if naive:\n",
    "        return nll_naive\n",
    "    else:\n",
    "        return nll_stable\n",
    "\n",
    "# Minimize the negative log-likelihood w.r.t. parameters l and sigma_f.\n",
    "# We should actually run the minimization several times with different\n",
    "# initializations to avoid local minima but this is skipped here for\n",
    "# simplicity.\n",
    "res = minimize(nll_fn(X_train, Y_train, noise), [1, 1], \n",
    "               bounds=((1e-5, None), (1e-5, None)),\n",
    "               method='L-BFGS-B')\n",
    "\n",
    "# Store the optimization results in global variables so that we can\n",
    "# compare it later with the results from other implementations.\n",
    "l_opt, sigma_f_opt = res.x\n",
    "\n",
    "# Compute posterior mean and covariance with optimized kernel parameters and plot the results\n",
    "mu_s, cov_s = posterior(X, X_train, Y_train, l=l_opt, sigma_f=sigma_f_opt, sigma_y=noise)\n",
    "# plot_gp(mu_s, cov_s, X, X_train=X_train, Y_train=Y_train)"
   ]
  },
  {
   "cell_type": "markdown",
   "metadata": {},
   "source": [
    "### 3D Space"
   ]
  },
  {
   "cell_type": "code",
   "execution_count": null,
   "metadata": {},
   "outputs": [],
   "source": [
    "rx, ry = np.arange(-5, 5, 0.3), np.arange(-5, 5, 0.3)\n",
    "gx, gy = np.meshgrid(rx, rx)\n",
    "\n",
    "noise_2D = 0.1\n",
    "\n",
    "X_2D_train = np.random.uniform(-4, 4, (100, 2))\n",
    "Y_2D_train = np.sin(0.5 * np.linalg.norm(X_2D_train, axis=1)) + \\\n",
    "             noise_2D * np.random.randn(len(X_2D_train))\n",
    "Y_2D_train"
   ]
  },
  {
   "cell_type": "markdown",
   "metadata": {},
   "source": [
    "## Generate Meson data"
   ]
  },
  {
   "cell_type": "code",
   "execution_count": null,
   "metadata": {},
   "outputs": [],
   "source": [
    "q_content = np.random.randint(2, size=(10))\n",
    "isospin = np.linspace(0, 1.5, 4) \n",
    "ang_momentum = np.arange(0, 4.5, 0.5) \n",
    "parity = np.array([-1, 1])\n",
    "\n",
    "# Create new data\n",
    "def choose(quantity):\n",
    "    return np.array(np.random.choice(quantity))\n",
    "\n",
    "X = np.empty([50, 13])\n",
    "\n",
    "for i in range(50):\n",
    "    X[i] = np.append(q_content, (choose(isospin), choose(ang_momentum), choose(parity)))\n"
   ]
  },
  {
   "cell_type": "markdown",
   "metadata": {},
   "source": [
    "## Using `sklearn`"
   ]
  },
  {
   "cell_type": "markdown",
   "metadata": {},
   "source": [
    "For Gaussian processes, we need to add an additional value to distinguish between different particles that constitute the same vector, ranked in order of their masses. From the paper, we will also be using the squared exponential (SE) and rational quadratic (RQ) kernels."
   ]
  },
  {
   "cell_type": "code",
   "execution_count": 7,
   "metadata": {},
   "outputs": [],
   "source": [
    "from sklearn.preprocessing import StandardScaler\n",
    "from sklearn.metrics import mean_absolute_error\n",
    "from sklearn.neural_network import MLPRegressor\n",
    "from sklearn.gaussian_process import GaussianProcessRegressor\n",
    "from sklearn.model_selection import LeaveOneOut, train_test_split\n",
    "from sklearn.gaussian_process.kernels import ConstantKernel, RBF, RationalQuadratic"
   ]
  },
  {
   "cell_type": "markdown",
   "metadata": {},
   "source": [
    "## Mesons"
   ]
  },
  {
   "cell_type": "markdown",
   "metadata": {},
   "source": [
    "*Question: How do you handle K-short and K-long?*"
   ]
  },
  {
   "cell_type": "code",
   "execution_count": 2,
   "metadata": {},
   "outputs": [
    {
     "data": {
      "text/plain": [
       "'E:\\\\Hasnain\\\\Uni\\\\AGenCy Lab\\\\Codebase\\\\gp\\\\freitas-krasserm-turner'"
      ]
     },
     "execution_count": 2,
     "metadata": {},
     "output_type": "execute_result"
    }
   ],
   "source": [
    "import os\n",
    "os.getcwd()"
   ]
  },
  {
   "cell_type": "code",
   "execution_count": 3,
   "metadata": {},
   "outputs": [],
   "source": [
    "data_file = '../baryons-from-mesons/GaussianProcess/data/mesoninputs.dat'\n",
    "target_file = '../baryons-from-mesons/GaussianProcess/data/mMass.dat'\n",
    "test_file = '../baryons-from-mesons/GaussianProcess/data/baryoninputs.dat'\n",
    "test_target_file = '../baryons-from-mesons/GaussianProcess/data/bMass.dat'\n",
    "light_mesons_file = '../lightmesons.dat'\n",
    "\n",
    "data = np.loadtxt(data_file)\n",
    "target = np.loadtxt(target_file)\n",
    "test = np.loadtxt(test_file)\n",
    "test_target = np.loadtxt(test_target_file)"
   ]
  },
  {
   "cell_type": "markdown",
   "metadata": {},
   "source": [
    "**Light & Heavy Mesons**"
   ]
  },
  {
   "cell_type": "code",
   "execution_count": 4,
   "metadata": {},
   "outputs": [],
   "source": [
    "light_mesons_file = '../lightmesons.dat'\n",
    "heavy_mesons_file = '../heavymesons.dat'\n",
    "\n",
    "light_mesons = np.loadtxt(light_mesons_file)\n",
    "heavy_mesons = np.loadtxt(heavy_mesons_file)"
   ]
  },
  {
   "cell_type": "markdown",
   "metadata": {},
   "source": [
    "### Experiment 4: Split into light & heavy mesons"
   ]
  },
  {
   "cell_type": "code",
   "execution_count": 5,
   "metadata": {},
   "outputs": [],
   "source": [
    "# Identify index from main set to find corresponding masses of light/heavy mesons\n",
    "def find_index(meson_array):\n",
    "    return np.where((data==meson_array[:, None]).all(-1))[1]"
   ]
  },
  {
   "cell_type": "code",
   "execution_count": 6,
   "metadata": {},
   "outputs": [],
   "source": [
    "def make_dataset(meson_array, meson_index):\n",
    "    X_train = meson_array\n",
    "    Y_train = target[meson_index]\n",
    "    return X_train, Y_train"
   ]
  },
  {
   "cell_type": "code",
   "execution_count": 52,
   "metadata": {},
   "outputs": [
    {
     "data": {
      "text/html": [
       "<div>\n",
       "<style scoped>\n",
       "    .dataframe tbody tr th:only-of-type {\n",
       "        vertical-align: middle;\n",
       "    }\n",
       "\n",
       "    .dataframe tbody tr th {\n",
       "        vertical-align: top;\n",
       "    }\n",
       "\n",
       "    .dataframe thead th {\n",
       "        text-align: right;\n",
       "    }\n",
       "</style>\n",
       "<table border=\"1\" class=\"dataframe\">\n",
       "  <thead>\n",
       "    <tr style=\"text-align: right;\">\n",
       "      <th></th>\n",
       "      <th>0</th>\n",
       "      <th>1</th>\n",
       "      <th>2</th>\n",
       "      <th>3</th>\n",
       "      <th>4</th>\n",
       "      <th>5</th>\n",
       "      <th>6</th>\n",
       "      <th>7</th>\n",
       "      <th>8</th>\n",
       "      <th>9</th>\n",
       "      <th>10</th>\n",
       "      <th>11</th>\n",
       "      <th>12</th>\n",
       "      <th>13</th>\n",
       "    </tr>\n",
       "  </thead>\n",
       "  <tbody>\n",
       "    <tr>\n",
       "      <th>0</th>\n",
       "      <td>1.0</td>\n",
       "      <td>0.0</td>\n",
       "      <td>0.0</td>\n",
       "      <td>1.0</td>\n",
       "      <td>0.0</td>\n",
       "      <td>0.0</td>\n",
       "      <td>0.0</td>\n",
       "      <td>0.0</td>\n",
       "      <td>0.0</td>\n",
       "      <td>0.0</td>\n",
       "      <td>1.0</td>\n",
       "      <td>0.0</td>\n",
       "      <td>-1.0</td>\n",
       "      <td>0.0</td>\n",
       "    </tr>\n",
       "    <tr>\n",
       "      <th>1</th>\n",
       "      <td>0.0</td>\n",
       "      <td>1.0</td>\n",
       "      <td>1.0</td>\n",
       "      <td>0.0</td>\n",
       "      <td>0.0</td>\n",
       "      <td>0.0</td>\n",
       "      <td>0.0</td>\n",
       "      <td>0.0</td>\n",
       "      <td>0.0</td>\n",
       "      <td>0.0</td>\n",
       "      <td>1.0</td>\n",
       "      <td>0.0</td>\n",
       "      <td>-1.0</td>\n",
       "      <td>0.0</td>\n",
       "    </tr>\n",
       "    <tr>\n",
       "      <th>2</th>\n",
       "      <td>1.0</td>\n",
       "      <td>1.0</td>\n",
       "      <td>0.0</td>\n",
       "      <td>0.0</td>\n",
       "      <td>0.0</td>\n",
       "      <td>0.0</td>\n",
       "      <td>0.0</td>\n",
       "      <td>0.0</td>\n",
       "      <td>0.0</td>\n",
       "      <td>0.0</td>\n",
       "      <td>1.0</td>\n",
       "      <td>0.0</td>\n",
       "      <td>-1.0</td>\n",
       "      <td>0.0</td>\n",
       "    </tr>\n",
       "    <tr>\n",
       "      <th>3</th>\n",
       "      <td>0.0</td>\n",
       "      <td>0.0</td>\n",
       "      <td>1.0</td>\n",
       "      <td>1.0</td>\n",
       "      <td>0.0</td>\n",
       "      <td>0.0</td>\n",
       "      <td>0.0</td>\n",
       "      <td>0.0</td>\n",
       "      <td>0.0</td>\n",
       "      <td>0.0</td>\n",
       "      <td>0.0</td>\n",
       "      <td>0.0</td>\n",
       "      <td>-1.0</td>\n",
       "      <td>0.0</td>\n",
       "    </tr>\n",
       "    <tr>\n",
       "      <th>4</th>\n",
       "      <td>0.0</td>\n",
       "      <td>0.0</td>\n",
       "      <td>1.0</td>\n",
       "      <td>1.0</td>\n",
       "      <td>0.0</td>\n",
       "      <td>0.0</td>\n",
       "      <td>0.0</td>\n",
       "      <td>0.0</td>\n",
       "      <td>0.0</td>\n",
       "      <td>0.0</td>\n",
       "      <td>0.0</td>\n",
       "      <td>0.0</td>\n",
       "      <td>1.0</td>\n",
       "      <td>0.0</td>\n",
       "    </tr>\n",
       "    <tr>\n",
       "      <th>...</th>\n",
       "      <td>...</td>\n",
       "      <td>...</td>\n",
       "      <td>...</td>\n",
       "      <td>...</td>\n",
       "      <td>...</td>\n",
       "      <td>...</td>\n",
       "      <td>...</td>\n",
       "      <td>...</td>\n",
       "      <td>...</td>\n",
       "      <td>...</td>\n",
       "      <td>...</td>\n",
       "      <td>...</td>\n",
       "      <td>...</td>\n",
       "      <td>...</td>\n",
       "    </tr>\n",
       "    <tr>\n",
       "      <th>191</th>\n",
       "      <td>0.0</td>\n",
       "      <td>0.0</td>\n",
       "      <td>0.0</td>\n",
       "      <td>0.0</td>\n",
       "      <td>0.0</td>\n",
       "      <td>0.0</td>\n",
       "      <td>0.0</td>\n",
       "      <td>0.0</td>\n",
       "      <td>1.0</td>\n",
       "      <td>1.0</td>\n",
       "      <td>0.0</td>\n",
       "      <td>1.0</td>\n",
       "      <td>1.0</td>\n",
       "      <td>3.0</td>\n",
       "    </tr>\n",
       "    <tr>\n",
       "      <th>192</th>\n",
       "      <td>0.0</td>\n",
       "      <td>0.0</td>\n",
       "      <td>0.0</td>\n",
       "      <td>0.0</td>\n",
       "      <td>0.0</td>\n",
       "      <td>0.0</td>\n",
       "      <td>0.0</td>\n",
       "      <td>0.0</td>\n",
       "      <td>1.0</td>\n",
       "      <td>1.0</td>\n",
       "      <td>0.0</td>\n",
       "      <td>2.0</td>\n",
       "      <td>1.0</td>\n",
       "      <td>2.0</td>\n",
       "    </tr>\n",
       "    <tr>\n",
       "      <th>193</th>\n",
       "      <td>0.0</td>\n",
       "      <td>0.0</td>\n",
       "      <td>0.0</td>\n",
       "      <td>0.0</td>\n",
       "      <td>0.0</td>\n",
       "      <td>0.0</td>\n",
       "      <td>0.0</td>\n",
       "      <td>0.0</td>\n",
       "      <td>1.0</td>\n",
       "      <td>1.0</td>\n",
       "      <td>0.0</td>\n",
       "      <td>1.0</td>\n",
       "      <td>-1.0</td>\n",
       "      <td>3.0</td>\n",
       "    </tr>\n",
       "    <tr>\n",
       "      <th>194</th>\n",
       "      <td>0.0</td>\n",
       "      <td>0.0</td>\n",
       "      <td>0.0</td>\n",
       "      <td>0.0</td>\n",
       "      <td>0.0</td>\n",
       "      <td>0.0</td>\n",
       "      <td>0.0</td>\n",
       "      <td>0.0</td>\n",
       "      <td>1.0</td>\n",
       "      <td>1.0</td>\n",
       "      <td>0.0</td>\n",
       "      <td>1.0</td>\n",
       "      <td>-1.0</td>\n",
       "      <td>4.0</td>\n",
       "    </tr>\n",
       "    <tr>\n",
       "      <th>195</th>\n",
       "      <td>0.0</td>\n",
       "      <td>0.0</td>\n",
       "      <td>0.0</td>\n",
       "      <td>0.0</td>\n",
       "      <td>0.0</td>\n",
       "      <td>0.0</td>\n",
       "      <td>0.0</td>\n",
       "      <td>0.0</td>\n",
       "      <td>1.0</td>\n",
       "      <td>1.0</td>\n",
       "      <td>0.0</td>\n",
       "      <td>1.0</td>\n",
       "      <td>-1.0</td>\n",
       "      <td>5.0</td>\n",
       "    </tr>\n",
       "  </tbody>\n",
       "</table>\n",
       "<p>196 rows × 14 columns</p>\n",
       "</div>"
      ],
      "text/plain": [
       "      0    1    2    3    4    5    6    7    8    9    10   11   12   13\n",
       "0    1.0  0.0  0.0  1.0  0.0  0.0  0.0  0.0  0.0  0.0  1.0  0.0 -1.0  0.0\n",
       "1    0.0  1.0  1.0  0.0  0.0  0.0  0.0  0.0  0.0  0.0  1.0  0.0 -1.0  0.0\n",
       "2    1.0  1.0  0.0  0.0  0.0  0.0  0.0  0.0  0.0  0.0  1.0  0.0 -1.0  0.0\n",
       "3    0.0  0.0  1.0  1.0  0.0  0.0  0.0  0.0  0.0  0.0  0.0  0.0 -1.0  0.0\n",
       "4    0.0  0.0  1.0  1.0  0.0  0.0  0.0  0.0  0.0  0.0  0.0  0.0  1.0  0.0\n",
       "..   ...  ...  ...  ...  ...  ...  ...  ...  ...  ...  ...  ...  ...  ...\n",
       "191  0.0  0.0  0.0  0.0  0.0  0.0  0.0  0.0  1.0  1.0  0.0  1.0  1.0  3.0\n",
       "192  0.0  0.0  0.0  0.0  0.0  0.0  0.0  0.0  1.0  1.0  0.0  2.0  1.0  2.0\n",
       "193  0.0  0.0  0.0  0.0  0.0  0.0  0.0  0.0  1.0  1.0  0.0  1.0 -1.0  3.0\n",
       "194  0.0  0.0  0.0  0.0  0.0  0.0  0.0  0.0  1.0  1.0  0.0  1.0 -1.0  4.0\n",
       "195  0.0  0.0  0.0  0.0  0.0  0.0  0.0  0.0  1.0  1.0  0.0  1.0 -1.0  5.0\n",
       "\n",
       "[196 rows x 14 columns]"
      ]
     },
     "execution_count": 52,
     "metadata": {},
     "output_type": "execute_result"
    }
   ],
   "source": [
    "data_df = pd.DataFrame(data=data)\n",
    "data_df"
   ]
  },
  {
   "cell_type": "code",
   "execution_count": 71,
   "metadata": {},
   "outputs": [],
   "source": [
    "# Light Mesons\n",
    "meson_index = find_index(light_mesons)\n",
    "X_train, Y_train = make_dataset(light_mesons, meson_index)\n",
    "X_train.shape, Y_train.shape"
   ]
  },
  {
   "cell_type": "code",
   "execution_count": 74,
   "metadata": {},
   "outputs": [],
   "source": [
    "# Heavy Mesons\n",
    "meson_index = find_index(heavy_mesons)\n",
    "X_train, Y_train = make_dataset(heavy_mesons, meson_index)\n",
    "X_train.shape, Y_train.shape"
   ]
  },
  {
   "cell_type": "markdown",
   "metadata": {},
   "source": [
    "### Filter out needed test data\n",
    "\n",
    "**Baryons**"
   ]
  },
  {
   "cell_type": "code",
   "execution_count": 55,
   "metadata": {},
   "outputs": [],
   "source": [
    "# np.where((test == (0, 0, 2, 0, 1, 0, 0, 0, 0, 0, 1, 0.5, 1, 0)).all(axis=1))\n",
    "\n",
    "# 7 baryons: p, n, lambda^{0}, sigma^{+}, sigma^{0}, sigma^{-}, delta^{++}\n",
    "indices = [0, 1, 2, 5, 6, 7, 24]\n",
    "X_test = test[indices]\n",
    "Y_test = test_target[indices]"
   ]
  },
  {
   "cell_type": "markdown",
   "metadata": {},
   "source": [
    "### Experiment 3: Recreate Tables 2-4\n",
    "\n",
    "**Missing values existing**"
   ]
  },
  {
   "cell_type": "code",
   "execution_count": 76,
   "metadata": {},
   "outputs": [],
   "source": [
    "X_train = np.array(pd.DataFrame(data=data).drop(indices))\n",
    "Y_train = np.delete(target, indices)"
   ]
  },
  {
   "cell_type": "code",
   "execution_count": 85,
   "metadata": {},
   "outputs": [
    {
     "data": {
      "text/plain": [
       "array([ 980.  , 1370.  , 2535.11, 2535.11])"
      ]
     },
     "execution_count": 85,
     "metadata": {},
     "output_type": "execute_result"
    }
   ],
   "source": [
    "np.exp(Y_test)"
   ]
  },
  {
   "cell_type": "code",
   "execution_count": 78,
   "metadata": {},
   "outputs": [
    {
     "data": {
      "text/plain": [
       "array([6.88755257, 7.22256602, 7.83799231, 7.83799231])"
      ]
     },
     "execution_count": 78,
     "metadata": {},
     "output_type": "execute_result"
    }
   ],
   "source": [
    "# np.where((data == (0, 0, 0, 0, 0, 1, 1, 1, 0, 0, 0, 0, 1, 0)).all(axis=1))\n",
    "\n",
    "# Mesons found in dataset: a_0, f_0, D_{s1}^{-}, D_{s1}^{+}\n",
    "indices = [10, 28, 137, 138]\n",
    "X_test = data[indices]\n",
    "Y_test = target[indices]\n",
    "\n",
    "Y_test"
   ]
  },
  {
   "cell_type": "code",
   "execution_count": 5,
   "metadata": {},
   "outputs": [
    {
     "data": {
      "text/plain": [
       "array([ 938.27210729,  939.56781663, 1115.68071016, 1189.37114875,\n",
       "       1192.64642084, 1197.4505092 , 1231.99489449])"
      ]
     },
     "execution_count": 5,
     "metadata": {},
     "output_type": "execute_result"
    }
   ],
   "source": [
    "# Sanity check\n",
    "np.exp(test_target[indices])"
   ]
  },
  {
   "cell_type": "markdown",
   "metadata": {},
   "source": [
    "### Initial dataset"
   ]
  },
  {
   "cell_type": "code",
   "execution_count": 7,
   "metadata": {},
   "outputs": [],
   "source": [
    "# Without the following unknown quark contents:\n",
    "# f2, a2(1320), π2, η2(1645), a2(1700), η2(1870) \n",
    "X = np.array([[1, 0, 0, 1, 0, 0, 0, 0, 0, 0, 1, 0, -1, 0],\n",
    "              [0, 1, 1, 0, 0, 0, 0, 0, 0, 0, 1, 0, -1, 0],\n",
    "              [1, 1, 1, 1, 0, 0, 0, 0, 0, 0, 1, 0, -1, 0],\n",
    "              [1, 1, 1, 1, 1, 1, 0, 0, 0, 0, 0, 0, -1, 0], # η\n",
    "              [1, 1, 1, 1, 1, 1, 0, 0, 0, 0, 0, 0, -1, 1], # η'\n",
    "              [1, 0, 0, 1, 0, 0, 0, 0, 0, 0, 1, 1, -1, 0],\n",
    "              [0, 1, 1, 0, 0, 0, 0, 0, 0, 0, 1, 1, -1, 0],\n",
    "              [1, 1, 1, 1, 0, 0, 0, 0, 0, 0, 1, 1, -1, 0],\n",
    "              [1, 1, 1, 1, 0, 0, 0, 0, 0, 0, 0, 1, -1, 0],\n",
    "              [0, 0, 0, 0, 1, 1, 0, 0, 0, 0, 0, 1, -1, 0],\n",
    "              [1, 0, 0, 0, 0, 1, 0, 0, 0, 0, 0.5, 0, -1, 0],\n",
    "              [0, 1, 0, 0, 1, 0, 0, 0, 0, 0, 0.5, 0, -1, 0],\n",
    "              [0, 0, 1, 0, 0, 1, 0, 0, 0, 0, 0.5, 0, -1, 0],\n",
    "              [0, 0, 0, 1, 1, 0, 0, 0, 0, 0, 0.5, 0, -1, 0],\n",
    "              [0, 0, 1, 1, 1, 1, 0, 0, 0, 0, 0.5, 0, -1, 0], #K-short\n",
    "              [0, 0, 1, 1, 1, 1, 0, 0, 0, 0, 0.5, 0, -1, 0], #K-long\n",
    "              [1, 0, 0, 0, 0, 1, 0, 0, 0, 0, 0.5, 1, -1, 0],\n",
    "              [0, 1, 0, 0, 1, 0, 0, 0, 0, 0, 0.5, 1, -1, 0],\n",
    "              [0, 0, 1, 0, 0, 1, 0, 0, 0, 0, 0.5, 1, -1, 0],\n",
    "              [0, 0, 0, 1, 1, 0, 0, 0, 0, 0, 0.5, 1, -1, 0]])\n",
    "\n",
    "Y = np.array([139.57039, 139.57039, 134.9768, 547.862, 957.78, 775.4, 775.4, 775.49, 782.65, 1019.461,\n",
    "              493.677, 493.677, 497.611, 497.611, 497.614, 497.614, 891.66, 891.66, 895.55, 895.55])"
   ]
  },
  {
   "cell_type": "code",
   "execution_count": null,
   "metadata": {},
   "outputs": [],
   "source": [
    "# With all particles\n",
    "# Unknown quark contents set to 0\n",
    "X = np.array([[1, 0, 0, 1, 0, 0, 0, 0, 0, 0, 1, 0, -1, 0],\n",
    "              [0, 1, 1, 0, 0, 0, 0, 0, 0, 0, 1, 0, -1, 0],\n",
    "              [1, 1, 1, 1, 0, 0, 0, 0, 0, 0, 1, 0, -1, 0],\n",
    "              [1, 1, 1, 1, 1, 1, 0, 0, 0, 0, 0, 0, -1, 0], # η\n",
    "              [1, 1, 1, 1, 1, 1, 0, 0, 0, 0, 0, 0, -1, 1], # η'\n",
    "              [1, 0, 0, 1, 0, 0, 0, 0, 0, 0, 1, 1, -1, 0],\n",
    "              [0, 1, 1, 0, 0, 0, 0, 0, 0, 0, 1, 1, -1, 0],\n",
    "              [1, 1, 1, 1, 0, 0, 0, 0, 0, 0, 1, 1, -1, 0],\n",
    "              [1, 1, 1, 1, 0, 0, 0, 0, 0, 0, 0, 1, -1, 0],\n",
    "              [0, 0, 0, 0, 1, 1, 0, 0, 0, 0, 0, 1, -1, 0],\n",
    "              [0, 0, 0, 0, 0, 0, 0, 0, 0, 0, 0, 2, 1, 0],     # f2\n",
    "              [0, 0, 0, 0, 0, 0, 0, 0, 0, 0, 1, 2, 1, 0],     # a2(1320)\n",
    "              [0, 0, 0, 0, 0, 0, 0, 0, 0, 0, 1, 2, -1, 0],    # π2\n",
    "              [0, 0, 0, 0, 0, 0, 0, 0, 0, 0, 0, 2, -1, 0],    # η2(1645)\n",
    "              [0, 0, 0, 0, 0, 0, 0, 0, 0, 0, 1, 2, 1, 1],     # a2(1700) \n",
    "              [0, 0, 0, 0, 0, 0, 0, 0, 0, 0, 0, 2, -1, 1],    # η2(1870)\n",
    "              [1, 0, 0, 0, 0, 1, 0, 0, 0, 0, 0.5, 0, -1, 0],\n",
    "              [0, 1, 0, 0, 1, 0, 0, 0, 0, 0, 0.5, 0, -1, 0],\n",
    "              [0, 0, 1, 0, 0, 1, 0, 0, 0, 0, 0.5, 0, -1, 0],\n",
    "              [0, 0, 0, 1, 1, 0, 0, 0, 0, 0, 0.5, 0, -1, 0],\n",
    "              [0, 0, 1, 1, 1, 1, 0, 0, 0, 0, 0.5, 0, -1, 0], # K-short\n",
    "              [0, 0, 1, 1, 1, 1, 0, 0, 0, 0, 0.5, 0, -1, 0], # K-long\n",
    "              [1, 0, 0, 0, 0, 1, 0, 0, 0, 0, 0.5, 1, -1, 0],\n",
    "              [0, 1, 0, 0, 1, 0, 0, 0, 0, 0, 0.5, 1, -1, 0],\n",
    "              [0, 0, 1, 0, 0, 1, 0, 0, 0, 0, 0.5, 1, -1, 0],\n",
    "              [0, 0, 0, 1, 1, 0, 0, 0, 0, 0, 0.5, 1, -1, 0]])\n",
    "\n",
    "Y = np.array([139.57039, 139.57039, 134.9768, 547.862, 957.78, 775.4, 775.4, 775.49, 782.65, 1019.461,\n",
    "              1275.5, 1316.9, 1670.6, 1617.0, 1705.0, 1842, # unknown quark contents\n",
    "              493.677, 493.677, 497.611, 497.611, 497.614, 497.614, 891.66, 891.66, 895.55, 895.55])"
   ]
  },
  {
   "cell_type": "code",
   "execution_count": 4,
   "metadata": {},
   "outputs": [],
   "source": [
    "# Normalize log masses to have 0 mean and unit variance\n",
    "scaler = StandardScaler()\n",
    "Y_log = np.log(Y)\n",
    "\n",
    "# Not needed if passing `normalize_y=True` when constructing GP object\n",
    "Y_normalized = scaler.fit_transform(Y_log.reshape(-1, 1)).ravel()"
   ]
  },
  {
   "cell_type": "markdown",
   "metadata": {},
   "source": [
    "## Kernels"
   ]
  },
  {
   "cell_type": "markdown",
   "metadata": {},
   "source": [
    "Recall the covariance function\n",
    "\n",
    "$$\\mathrm{cov}(\\mathbf{x}_i,\\mathbf{x}_j) = \\kappa(\\mathbf{x}_i,\\mathbf{x}_j) + N_{i,j} \\;, \\text{where} \\; N_{i,j} = \\sigma_y^2 \\delta_{i,j}$$\n",
    "\n",
    "where the squared exponential can be written as\n",
    "\n",
    "$$\n",
    "K_{\\textrm{SE}}(\\mathbf{x}_i,\\mathbf{x}_j) =\n",
    "\\sigma_f^2 \\exp\\left(-\\frac{1}{2l^2}\n",
    "  (\\mathbf{x}_i - \\mathbf{x}_j)^T\n",
    "  (\\mathbf{x}_i - \\mathbf{x}_j)\\right)\n",
    "$$\n",
    "\n",
    "and the rational quadratic kernel is\n",
    "\n",
    "$$\n",
    "K_{\\textrm{RQ}}(\\mathbf{x}_i,\\mathbf{x}_j) =\n",
    "\\sigma_f^2 \\exp\\left(1 + \\frac{1}{2 \\alpha}\n",
    "  (\\mathbf{x}_i - \\mathbf{x}_j)^T\n",
    "  (\\mathbf{x}_i - \\mathbf{x}_j)\\right)^{-\\alpha}\n",
    "$$\n",
    "\n",
    "The prior's covariance is specified by the kernel function. The prior mean is assumed to be data's mean if `normalize_y=True` is passed, and set to constant and $0$ otherwise. \n",
    "\n",
    "Hyperparameters of the kernel are optimized during fitting by maximizing the log-marginal-likelihood, based on the passed optimizer. Optimizer can be started repeatedly by specifying the `n_restarts_optimizer` parameter, as it may have multiple local optima.\n",
    "\n",
    "Starting from the initial hyperparameter values of the kernel, subsequent runs are conducted from hyperparameter values that have been chosen randomly from the range of allowed values.\n",
    "\n",
    "The noise level in the targets can be specified by passing it via the parameter `alpha`, either globally as a scalar or per datapoint. This is added to the diagonal of the kernel matrix during fitting. It can also be interpreted as the variance of additional Gaussian measurement noise on the training observations.\n",
    "\n",
    "The `RBF`/`SE` kernel only has an `l` parameter which corresponds to the `length_scale` parameter. To have a $\\sigma_f$ parameter as well, we have to compose the `RBF` kernel with a `ConstantKernel`. `l` can either be a scalar (isotropic variant of the kernel) or a vector with the same number of dimensions as the inputs X (anisotropic variant of the kernel).\n",
    "\n",
    "The `RationalQuadratic` kernel is parameterized by a length scale parameter $l > 0$ and a scale mixture parameter $\\alpha > 0$. Only the isotropic variant where `length_scale` is a scalar is supported by `sklearn`."
   ]
  },
  {
   "cell_type": "code",
   "execution_count": 6,
   "metadata": {},
   "outputs": [],
   "source": [
    "# Reshape Y_log or Y_normalized to (-1, 1) if adding noise\n",
    "Y_log = Y_log.reshape(-1, 1)\n",
    "Y_normalized = Y_normalized.reshape(-1, 1)"
   ]
  },
  {
   "cell_type": "code",
   "execution_count": 7,
   "metadata": {},
   "outputs": [
    {
     "data": {
      "text/plain": [
       "(6.296347305073987, 0.6286352637696876)"
      ]
     },
     "execution_count": 7,
     "metadata": {},
     "output_type": "execute_result"
    }
   ],
   "source": [
    "np.mean(Y_log), np.std(Y_log)"
   ]
  },
  {
   "cell_type": "markdown",
   "metadata": {},
   "source": [
    "### Model"
   ]
  },
  {
   "cell_type": "code",
   "execution_count": 79,
   "metadata": {},
   "outputs": [],
   "source": [
    "noise = 1.4**2\n",
    "rbf = ConstantKernel(0.6) * RBF(length_scale=1.2)\n",
    "# rq = ConstantKernel(1.0) * RationalQuadratic(length_scale=1.0, alpha=1.0)\n",
    "\n",
    "# Set GP prior to training data's mean and cov with kernel\n",
    "gpr = GaussianProcessRegressor(kernel=rbf, alpha=noise, n_restarts_optimizer=10)#, normalize_y=True)\n",
    "# gpr = GaussianProcessRegressor(kernel=rq, alpha=noise**2, normalize_y=True)\n",
    "\n",
    "# Add noise if needed\n",
    "# Y_noisy = Y_log + noise * np.random.randn(*X.shape)"
   ]
  },
  {
   "cell_type": "markdown",
   "metadata": {},
   "source": [
    "### Experiment 2: Meson-Baryon Train-Test"
   ]
  },
  {
   "cell_type": "code",
   "execution_count": 7,
   "metadata": {},
   "outputs": [
    {
     "name": "stdout",
     "output_type": "stream",
     "text": [
      "X_Train:  (196, 14) X_Test:  (7, 14) Y_train:  (196,) Y_test:  (7,)\n",
      "Y_test:  [6.84404 6.84542 7.01722 7.08118 7.08393 7.08795 7.11639]\n"
     ]
    }
   ],
   "source": [
    "X_train, Y_train = data, target \n",
    "\n",
    "print('X_Train: ', X_train.shape, 'X_Test: ', X_test.shape, 'Y_train: ', Y_train.shape, 'Y_test: ', Y_test.shape)\n",
    "print('Y_test: ', Y_test)"
   ]
  },
  {
   "cell_type": "markdown",
   "metadata": {},
   "source": [
    "### Experiment 1: 80-20 Meson Split"
   ]
  },
  {
   "cell_type": "code",
   "execution_count": 6,
   "metadata": {},
   "outputs": [
    {
     "name": "stdout",
     "output_type": "stream",
     "text": [
      "X_Train:  (156, 14) X_Test:  (40, 14) Y_train:  (156,) Y_test:  (40,)\n",
      "Y_test:  [7.62315307 7.14834574 7.45007957 7.41878088 7.28961052 9.30500489\n",
      " 4.93857064 7.42093812 7.76004068 7.24636808 7.62315307 7.41577698\n",
      " 7.85131092 7.81010935 7.26283896 7.25911613 6.71417053 7.59337419\n",
      " 6.86461811 7.48211892 6.88755257 9.24524409 9.23556553 7.44132039\n",
      " 8.33009223 8.27568198 6.79743805 8.39412119 9.26141364 7.06475903\n",
      " 7.21081845 7.42093812 8.34069465 7.17011954 7.57250299 7.32974969\n",
      " 7.26710664 7.53350653 7.44132039 8.24858145]\n"
     ]
    }
   ],
   "source": [
    "# 80-20 train-test split\n",
    "# Replace the Y's with Y_log, Y_normalized, or Y_noisy as needed\n",
    "X_train, X_test, Y_train, Y_test = train_test_split(data, target, test_size=0.2, shuffle=True)\n",
    "\n",
    "print('X_Train: ', X_train.shape, 'X_Test: ', X_test.shape, 'Y_train: ', Y_train.shape, 'Y_test: ', Y_test.shape)\n",
    "print('Y_test: ', Y_test)"
   ]
  },
  {
   "cell_type": "code",
   "execution_count": 8,
   "metadata": {},
   "outputs": [
    {
     "data": {
      "text/plain": [
       "938.2721072927486"
      ]
     },
     "execution_count": 8,
     "metadata": {},
     "output_type": "execute_result"
    }
   ],
   "source": [
    "# Sanity check: Convert changing normalized log value back to MeV scale\n",
    "np.exp(Y_test[0])\n",
    "\n",
    "# np.exp((-0.13763566 * np.std(Y_log)) + np.mean(Y_log))"
   ]
  },
  {
   "cell_type": "markdown",
   "metadata": {},
   "source": [
    "### Training to find posterior mean and covariance"
   ]
  },
  {
   "cell_type": "code",
   "execution_count": 56,
   "metadata": {},
   "outputs": [],
   "source": [
    "def plotter(ground_truth, prediction, cov):\n",
    "    # Plot the mean and variances\n",
    "    fig, ax = plt.subplots(figsize=(10, 8))\n",
    "\n",
    "    # Set font size\n",
    "    FONT_MEDIUM = 20\n",
    "    plt.rc('axes', labelsize=FONT_MEDIUM)    # fontsize of the x and y labelsb\n",
    "\n",
    "    ax.scatter(ground_truth, prediction)\n",
    "    ax.errorbar(ground_truth, prediction, yerr=cov, linestyle='None')\n",
    "    ax.set_ylabel('Predicted mass (MeV, Log Scale)')\n",
    "    ax.set_xlabel('Measured mass (MeV, Log Scale)')\n",
    "    plt.show()"
   ]
  },
  {
   "cell_type": "code",
   "execution_count": 57,
   "metadata": {},
   "outputs": [
    {
     "data": {
      "text/plain": [
       "((122, 14), (122,), (7, 14), (7,))"
      ]
     },
     "execution_count": 57,
     "metadata": {},
     "output_type": "execute_result"
    }
   ],
   "source": [
    "X_train.shape, Y_train.shape, X_test.shape, Y_test.shape"
   ]
  },
  {
   "cell_type": "code",
   "execution_count": 1,
   "metadata": {},
   "outputs": [
    {
     "ename": "NameError",
     "evalue": "name 'Y_test' is not defined",
     "output_type": "error",
     "traceback": [
      "\u001b[1;31m---------------------------------------------------------------------------\u001b[0m",
      "\u001b[1;31mNameError\u001b[0m                                 Traceback (most recent call last)",
      "\u001b[1;32m<ipython-input-1-9823bd7070f7>\u001b[0m in \u001b[0;36m<module>\u001b[1;34m\u001b[0m\n\u001b[1;32m----> 1\u001b[1;33m \u001b[0mY_test\u001b[0m\u001b[1;33m\u001b[0m\u001b[1;33m\u001b[0m\u001b[0m\n\u001b[0m",
      "\u001b[1;31mNameError\u001b[0m: name 'Y_test' is not defined"
     ]
    }
   ],
   "source": [
    "Y_test"
   ]
  },
  {
   "cell_type": "code",
   "execution_count": 81,
   "metadata": {},
   "outputs": [
    {
     "name": "stdout",
     "output_type": "stream",
     "text": [
      "[1035.71997017 1424.36697623 2111.28906187 2392.88370562] \n",
      " [ 980.   1370.   2535.11 2535.11] \n",
      " [0.32271016 0.30944669 0.33651497 0.33112907] \n",
      "\n",
      "RMSE:  0.08372310499910762\n",
      "length scale, sigma_f, noise: 22.9319519257659 8.01511232608773 1.9599999999999997\n"
     ]
    },
    {
     "data": {
      "image/png": "[encoded data removed]",
      "text/plain": [
       "<Figure size 720x576 with 1 Axes>"
      ]
     },
     "metadata": {
      "needs_background": "light"
     },
     "output_type": "display_data"
    }
   ],
   "source": [
    "# Declare cache\n",
    "# results = {'mean': np.zeros((iter, X_test.shape[0])), 'cov': np.zeros((iter, X_test.shape[0])),\n",
    "#            'length_scales': np.zeros(iter), 'sigma_f': np.zeros(iter)}\n",
    "\n",
    "# Reuse training data\n",
    "gpr.fit(X_train, Y_train)\n",
    "\n",
    "mean, cov = gpr.predict(X_test, return_std=True)\n",
    "\n",
    "# Obtain optimized kernel parameters\n",
    "l = gpr.kernel_.k2.get_params()['length_scale']\n",
    "sigma_f = np.sqrt(gpr.kernel_.k1.get_params()['constant_value'])\n",
    "\n",
    "print(np.exp(mean), '\\n', np.exp(Y_test), '\\n', cov, '\\n')\n",
    "print('RMSE: ', mean_absolute_error(Y_test, mean))\n",
    "print('length scale, sigma_f, noise:', l, sigma_f, noise)\n",
    "\n",
    "# Plot\n",
    "plotter(Y_test, mean, cov)"
   ]
  },
  {
   "cell_type": "code",
   "execution_count": 76,
   "metadata": {},
   "outputs": [
    {
     "name": "stdout",
     "output_type": "stream",
     "text": [
      "Current hyperparams: \n",
      " noise: 1.9599999999999997, constant_value: 0.6, length_scale: 0.6\n",
      "[4147.63949917 4016.80424738 4040.48392891 4061.23087061 3944.943229\n",
      " 3809.10809781 4240.99675891] \n",
      " [ 938.27210729  939.56781663 1115.68071016 1189.37114875 1192.64642084\n",
      " 1197.4505092  1231.99489449] \n",
      " [0.42081405 0.42553065 0.36021213 0.43312036 0.37721606 0.44156092\n",
      " 0.54967126] \n",
      "\n",
      "Current hyperparams: \n",
      " noise: 1.9599999999999997, constant_value: 0.7, length_scale: 0.7\n",
      "[4147.63958683 4016.80437531 4040.48404751 4061.23098589 3944.94337818\n",
      " 3809.10828749 4240.99683506] \n",
      " [ 938.27210729  939.56781663 1115.68071016 1189.37114875 1192.64642084\n",
      " 1197.4505092  1231.99489449] \n",
      " [0.42081399 0.42553058 0.36021208 0.43312029 0.377216   0.44156084\n",
      " 0.54967116] \n",
      "\n",
      "Current hyperparams: \n",
      " noise: 1.9599999999999997, constant_value: 0.7999999999999999, length_scale: 0.7999999999999999\n",
      "[4147.6395847  4016.80437099 4040.48404282 4061.23098247 3944.9433721\n",
      " 3809.10828    4240.99683603] \n",
      " [ 938.27210729  939.56781663 1115.68071016 1189.37114875 1192.64642084\n",
      " 1197.4505092  1231.99489449] \n",
      " [0.42081399 0.42553058 0.36021208 0.4331203  0.377216   0.44156085\n",
      " 0.54967117] \n",
      "\n",
      "Current hyperparams: \n",
      " noise: 1.9599999999999997, constant_value: 0.8999999999999999, length_scale: 0.8999999999999999\n",
      "[4147.63956952 4016.80435583 4040.48403268 4061.23096606 3944.94336043\n",
      " 3809.10826376 4240.9968065 ] \n",
      " [ 938.27210729  939.56781663 1115.68071016 1189.37114875 1192.64642084\n",
      " 1197.4505092  1231.99489449] \n",
      " [0.42081399 0.42553058 0.36021208 0.4331203  0.377216   0.44156085\n",
      " 0.54967117] \n",
      "\n",
      "Current hyperparams: \n",
      " noise: 1.9599999999999997, constant_value: 0.9999999999999999, length_scale: 0.9999999999999999\n",
      "[4147.63959414 4016.80438367 4040.48405397 4061.23099433 3944.94338595\n",
      " 3809.10829783 4240.9968468 ] \n",
      " [ 938.27210729  939.56781663 1115.68071016 1189.37114875 1192.64642084\n",
      " 1197.4505092  1231.99489449] \n",
      " [0.42081398 0.42553058 0.36021207 0.43312029 0.377216   0.44156084\n",
      " 0.54967116] \n",
      "\n",
      "Current hyperparams: \n",
      " noise: 1.9599999999999997, constant_value: 1.0999999999999999, length_scale: 1.0999999999999999\n",
      "[4147.63962243 4016.80442622 4040.48409412 4061.23103217 3944.94343665\n",
      " 3809.10836204 4240.99686843] \n",
      " [ 938.27210729  939.56781663 1115.68071016 1189.37114875 1192.64642084\n",
      " 1197.4505092  1231.99489449] \n",
      " [0.42081396 0.42553055 0.36021206 0.43312027 0.37721598 0.44156081\n",
      " 0.54967112] \n",
      "\n",
      "Current hyperparams: \n",
      " noise: 1.9599999999999997, constant_value: 1.1999999999999997, length_scale: 1.1999999999999997\n",
      "[4147.63959136 4016.80438174 4040.48405337 4061.23099175 3944.94338553\n",
      " 3809.10829686 4240.9968394 ] \n",
      " [ 938.27210729  939.56781663 1115.68071016 1189.37114875 1192.64642084\n",
      " 1197.4505092  1231.99489449] \n",
      " [0.42081398 0.42553058 0.36021207 0.43312029 0.377216   0.44156084\n",
      " 0.54967116] \n",
      "\n",
      "Current hyperparams: \n",
      " noise: 1.9599999999999997, constant_value: 1.2999999999999998, length_scale: 1.2999999999999998\n",
      "[4147.63949938 4016.80428905 4040.48399065 4061.23089188 3944.94331313\n",
      " 3809.10819647 4240.99666228] \n",
      " [ 938.27210729  939.56781663 1115.68071016 1189.37114875 1192.64642084\n",
      " 1197.4505092  1231.99489449] \n",
      " [0.42081399 0.42553058 0.36021208 0.4331203  0.377216   0.44156084\n",
      " 0.54967116] \n",
      "\n",
      "Current hyperparams: \n",
      " noise: 1.9599999999999997, constant_value: 1.4, length_scale: 1.4\n",
      "[4147.63965384 4016.80449543 4040.48417136 4061.23108534 3944.94353747\n",
      " 3809.10848553 4240.99684097] \n",
      " [ 938.27210729  939.56781663 1115.68071016 1189.37114875 1192.64642084\n",
      " 1197.4505092  1231.99489449] \n",
      " [0.4208139  0.42553049 0.36021201 0.4331202  0.37721593 0.44156075\n",
      " 0.54967104] \n",
      "\n",
      "Current hyperparams: \n",
      " noise: 1.9599999999999997, constant_value: 1.4999999999999998, length_scale: 1.4999999999999998\n",
      "[4147.63956087 4016.80436436 4040.48405241 4061.23096542 3944.94338855\n",
      " 3809.10829527 4240.99674947] \n",
      " [ 938.27210729  939.56781663 1115.68071016 1189.37114875 1192.64642084\n",
      " 1197.4505092  1231.99489449] \n",
      " [0.42081396 0.42553056 0.36021206 0.43312027 0.37721598 0.44156082\n",
      " 0.54967113] \n",
      "\n",
      "Current hyperparams: \n",
      " noise: 1.9599999999999997, constant_value: 1.5999999999999996, length_scale: 1.5999999999999996\n",
      "[4147.63935165 4016.80404096 4040.48374247 4061.23068112 3944.94299586\n",
      " 3809.1077996  4240.99661011] \n",
      " [ 938.27210729  939.56781663 1115.68071016 1189.37114875 1192.64642084\n",
      " 1197.4505092  1231.99489449] \n",
      " [0.42081415 0.42553075 0.36021221 0.43312047 0.37721614 0.44156102\n",
      " 0.5496714 ] \n",
      "\n",
      "Current hyperparams: \n",
      " noise: 1.9599999999999997, constant_value: 1.6999999999999997, length_scale: 1.6999999999999997\n",
      "[4147.63960622 4016.80439987 4040.48406819 4061.23100949 3944.94340362\n",
      " 3809.10832058 4240.99686064] \n",
      " [ 938.27210729  939.56781663 1115.68071016 1189.37114875 1192.64642084\n",
      " 1197.4505092  1231.99489449] \n",
      " [0.42081398 0.42553057 0.36021207 0.43312028 0.37721599 0.44156083\n",
      " 0.54967115] \n",
      "\n",
      "Current hyperparams: \n",
      " noise: 1.9599999999999997, constant_value: 1.7999999999999998, length_scale: 1.7999999999999998\n",
      "[4147.63957702 4016.80436176 4040.48403537 4061.23097338 3944.94336303\n",
      " 3809.10826807 4240.99682476] \n",
      " [ 938.27210729  939.56781663 1115.68071016 1189.37114875 1192.64642084\n",
      " 1197.4505092  1231.99489449] \n",
      " [0.42081399 0.42553059 0.36021208 0.4331203  0.377216   0.44156085\n",
      " 0.54967117] \n",
      "\n",
      "Current hyperparams: \n",
      " noise: 1.9599999999999997, constant_value: 1.9, length_scale: 1.9\n",
      "[4147.63948906 4016.8026518  4040.48156587 4061.23005491 3944.94000952\n",
      " 3809.10432178 4241.00045131] \n",
      " [ 938.27210729  939.56781663 1115.68071016 1189.37114875 1192.64642084\n",
      " 1197.4505092  1231.99489449] \n",
      " [0.42081658 0.42553326 0.36021411 0.43312298 0.37721817 0.44156368\n",
      " 0.54967488] \n",
      "\n",
      "Current hyperparams: \n",
      " noise: 1.9599999999999997, constant_value: 1.9999999999999996, length_scale: 1.9999999999999996\n",
      "[4147.63956386 4016.80435211 4040.48403178 4061.23096092 3944.94336001\n",
      " 3809.10826231 4240.99679091] \n",
      " [ 938.27210729  939.56781663 1115.68071016 1189.37114875 1192.64642084\n",
      " 1197.4505092  1231.99489449] \n",
      " [0.42081399 0.42553058 0.36021208 0.4331203  0.377216   0.44156084\n",
      " 0.54967116] \n",
      "\n",
      "Current hyperparams: \n",
      " noise: 1.9599999999999997, constant_value: 2.0999999999999996, length_scale: 2.0999999999999996\n",
      "[4147.63949829 4016.80424379 4040.48392428 4061.23086828 3944.94322281\n",
      " 3809.10809041 4240.99676358] \n",
      " [ 938.27210729  939.56781663 1115.68071016 1189.37114875 1192.64642084\n",
      " 1197.4505092  1231.99489449] \n",
      " [0.42081406 0.42553065 0.36021213 0.43312037 0.37721606 0.44156092\n",
      " 0.54967126] \n",
      "\n",
      "Current hyperparams: \n",
      " noise: 1.9599999999999997, constant_value: 2.1999999999999997, length_scale: 2.1999999999999997\n",
      "[4147.6391697  4016.80380919 4040.48354648 4061.23045898 3944.94275459\n",
      " 3809.10748606 4240.99637303] \n",
      " [ 938.27210729  939.56781663 1115.68071016 1189.37114875 1192.64642084\n",
      " 1197.4505092  1231.99489449] \n",
      " [0.42081424 0.42553084 0.36021228 0.43312056 0.37721621 0.44156112\n",
      " 0.54967152] \n",
      "\n",
      "Current hyperparams: \n",
      " noise: 1.9599999999999997, constant_value: 2.3, length_scale: 2.3\n",
      "[4147.63953756 4016.80433042 4040.48402099 4061.2309348  3944.94334904\n",
      " 3809.10824502 4240.99672902] \n",
      " [ 938.27210729  939.56781663 1115.68071016 1189.37114875 1192.64642084\n",
      " 1197.4505092  1231.99489449] \n",
      " [0.42081398 0.42553057 0.36021207 0.43312029 0.377216   0.44156084\n",
      " 0.54967115] \n",
      "\n",
      "Current hyperparams: \n",
      " noise: 1.9599999999999997, constant_value: 2.3999999999999995, length_scale: 2.3999999999999995\n",
      "[4147.63948585 4016.80418422 4040.48384591 4061.2308309  3944.94311776\n",
      " 3809.10796515 4240.99684972] \n",
      " [ 938.27210729  939.56781663 1115.68071016 1189.37114875 1192.64642084\n",
      " 1197.4505092  1231.99489449] \n",
      " [0.42081413 0.42553073 0.36021219 0.43312045 0.37721612 0.441561\n",
      " 0.54967137] \n",
      "\n",
      "Current hyperparams: \n",
      " noise: 1.9599999999999997, constant_value: 2.4999999999999996, length_scale: 2.4999999999999996\n",
      "[4147.63983153 4016.80470508 4040.48433797 4061.2312938  3944.94373929\n",
      " 3809.10875211 4240.99711152] \n",
      " [ 938.27210729  939.56781663 1115.68071016 1189.37114875 1192.64642084\n",
      " 1197.4505092  1231.99489449] \n",
      " [0.42081384 0.42553043 0.36021196 0.43312014 0.37721588 0.44156068\n",
      " 0.54967095] \n",
      "\n",
      "Current hyperparams: \n",
      " noise: 1.9599999999999997, constant_value: 2.5999999999999996, length_scale: 2.5999999999999996\n",
      "[4147.63958312 4016.80436948 4040.48404187 4061.2309808  3944.94337103\n",
      " 3809.10827847 4240.99683281] \n",
      " [ 938.27210729  939.56781663 1115.68071016 1189.37114875 1192.64642084\n",
      " 1197.4505092  1231.99489449] \n",
      " [0.42081399 0.42553058 0.36021208 0.4331203  0.377216   0.44156085\n",
      " 0.54967117] \n",
      "\n",
      "Current hyperparams: \n",
      " noise: 1.9599999999999997, constant_value: 2.6999999999999997, length_scale: 2.6999999999999997\n",
      "[4147.63970166 4016.80454817 4040.48421072 4061.23113958 3944.94358432\n",
      " 3809.10854852 4240.99692241] \n",
      " [ 938.27210729  939.56781663 1115.68071016 1189.37114875 1192.64642084\n",
      " 1197.4505092  1231.99489449] \n",
      " [0.42081389 0.42553048 0.360212   0.43312019 0.37721592 0.44156074\n",
      " 0.54967102] \n",
      "\n",
      "Current hyperparams: \n",
      " noise: 1.9599999999999997, constant_value: 2.7999999999999994, length_scale: 2.7999999999999994\n",
      "[4147.64276339 4016.80907713 4040.48844359 4061.23519674 3944.94891845\n",
      " 3809.11531838 4240.99943875] \n",
      " [ 938.27210729  939.56781663 1115.68071016 1189.37114875 1192.64642084\n",
      " 1197.4505092  1231.99489449] \n",
      " [0.42081143 0.42552794 0.36021006 0.43311764 0.37721386 0.44155804\n",
      " 0.54966752] \n",
      "\n",
      "Current hyperparams: \n",
      " noise: 1.9599999999999997, constant_value: 2.8999999999999995, length_scale: 2.8999999999999995\n",
      "[4147.63957468 4016.80437623 4040.48405879 4061.23097938 3944.94339529\n",
      " 3809.10830549 4240.99678084] \n",
      " [ 938.27210729  939.56781663 1115.68071016 1189.37114875 1192.64642084\n",
      " 1197.4505092  1231.99489449] \n",
      " [0.42081397 0.42553056 0.36021206 0.43312027 0.37721598 0.44156082\n",
      " 0.54967113] \n",
      "\n",
      "Current hyperparams: \n",
      " noise: 1.9599999999999997, constant_value: 2.9999999999999996, length_scale: 2.9999999999999996\n",
      "[4147.63888249 4016.80333253 4040.4830724  4061.23005209 3944.94214925\n",
      " 3809.10672796 4240.9962583 ] \n",
      " [ 938.27210729  939.56781663 1115.68071016 1189.37114875 1192.64642084\n",
      " 1197.4505092  1231.99489449] \n",
      " [0.42081455 0.42553117 0.36021252 0.43312088 0.37721647 0.44156146\n",
      " 0.54967197] \n",
      "\n",
      "Current hyperparams: \n",
      " noise: 1.9599999999999997, constant_value: 3.0999999999999996, length_scale: 3.0999999999999996\n",
      "[4147.63958082 4016.80436724 4040.48404042 4061.23097834 3944.94336938\n",
      " 3809.10827615 4240.99682819] \n",
      " [ 938.27210729  939.56781663 1115.68071016 1189.37114875 1192.64642084\n",
      " 1197.4505092  1231.99489449] \n",
      " [0.42081399 0.42553058 0.36021208 0.4331203  0.377216   0.44156085\n",
      " 0.54967117] \n",
      "\n",
      "Current hyperparams: \n",
      " noise: 1.9599999999999997, constant_value: 3.1999999999999997, length_scale: 3.1999999999999997\n",
      "[4147.63999702 4016.8049738  4040.48460232 4061.23152524 3944.94407608\n",
      " 3809.10917484 4240.99719152] \n",
      " [ 938.27210729  939.56781663 1115.68071016 1189.37114875 1192.64642084\n",
      " 1197.4505092  1231.99489449] \n",
      " [0.42081367 0.42553025 0.36021183 0.43311997 0.37721573 0.4415605\n",
      " 0.54967071] \n",
      "\n",
      "Current hyperparams: \n",
      " noise: 1.9599999999999997, constant_value: 3.2999999999999994, length_scale: 3.2999999999999994\n",
      "[4147.64235431 4016.80825424 4040.48755439 4061.23454412 3944.94776462\n",
      " 3809.11389669 4240.9996124 ] \n",
      " [ 938.27210729  939.56781663 1115.68071016 1189.37114875 1192.64642084\n",
      " 1197.4505092  1231.99489449] \n",
      " [0.4208121  0.42552864 0.36021059 0.43311835 0.37721442 0.44155878\n",
      " 0.54966849] \n",
      "\n",
      "Current hyperparams: \n",
      " noise: 1.9599999999999997, constant_value: 3.3999999999999995, length_scale: 3.3999999999999995\n",
      "[4147.63947865 4016.8042291  4040.48391849 4061.23084955 3944.94321771\n",
      " 3809.10808111 4240.99671377] \n",
      " [ 938.27210729  939.56781663 1115.68071016 1189.37114875 1192.64642084\n",
      " 1197.4505092  1231.99489449] \n",
      " [0.42081405 0.42553065 0.36021213 0.43312036 0.37721605 0.44156091\n",
      " 0.54967125] \n",
      "\n",
      "Current hyperparams: \n",
      " noise: 1.9599999999999997, constant_value: 3.4999999999999996, length_scale: 3.4999999999999996\n",
      "[4147.63923035 4016.80388523 4040.48361001 4061.23053241 3944.94283255\n",
      " 3809.1075877  4240.99645489] \n",
      " [ 938.27210729  939.56781663 1115.68071016 1189.37114875 1192.64642084\n",
      " 1197.4505092  1231.99489449] \n",
      " [0.42081421 0.42553081 0.36021226 0.43312053 0.37721619 0.44156109\n",
      " 0.54967148] \n",
      "\n",
      "Current hyperparams: \n",
      " noise: 1.9599999999999997, constant_value: 3.599999999999999, length_scale: 3.599999999999999\n",
      "[4147.63814289 4016.80222448 4040.48202906 4061.22906491 3944.94083231\n",
      " 3809.1050593  4240.99568328] \n",
      " [ 938.27210729  939.56781663 1115.68071016 1189.37114875 1192.64642084\n",
      " 1197.4505092  1231.99489449] \n",
      " [0.42081517 0.4255318  0.36021301 0.43312152 0.37721699 0.44156214\n",
      " 0.54967285] \n",
      "\n",
      "Current hyperparams: \n",
      " noise: 1.9599999999999997, constant_value: 3.6999999999999993, length_scale: 3.6999999999999993\n",
      "[4147.63958512 4016.80436751 4040.48403731 4061.23098095 3944.94336453\n",
      " 3809.10827119 4240.99684599] \n",
      " [ 938.27210729  939.56781663 1115.68071016 1189.37114875 1192.64642084\n",
      " 1197.4505092  1231.99489449] \n",
      " [0.420814   0.42553059 0.36021208 0.4331203  0.37721601 0.44156085\n",
      " 0.54967118] \n",
      "\n",
      "Current hyperparams: \n",
      " noise: 1.9599999999999997, constant_value: 3.7999999999999994, length_scale: 3.7999999999999994\n",
      "[4147.63956955 4016.80434847 4040.48402172 4061.23096234 3944.9433455\n",
      " 3809.10824626 4240.99682384] \n",
      " [ 938.27210729  939.56781663 1115.68071016 1189.37114875 1192.64642084\n",
      " 1197.4505092  1231.99489449] \n",
      " [0.420814   0.4255306  0.36021209 0.43312031 0.37721601 0.44156086\n",
      " 0.54967118] \n",
      "\n",
      "Current hyperparams: \n",
      " noise: 1.9599999999999997, constant_value: 3.8999999999999995, length_scale: 3.8999999999999995\n",
      "[4147.63905345 4016.80381922 4040.48365622 4061.23039731 3944.94292071\n",
      " 3809.1076612  4240.9958514 ] \n",
      " [ 938.27210729  939.56781663 1115.68071016 1189.37114875 1192.64642084\n",
      " 1197.4505092  1231.99489449] \n",
      " [0.42081404 0.42553064 0.36021212 0.43312035 0.37721605 0.4415609\n",
      " 0.54967124] \n",
      "\n",
      "Current hyperparams: \n",
      " noise: 1.9599999999999997, constant_value: 3.9999999999999996, length_scale: 3.9999999999999996\n",
      "[4147.63964514 4016.80445853 4040.48412362 4061.23106162 3944.94347364\n",
      " 3809.10840923 4240.99689006] \n",
      " [ 938.27210729  939.56781663 1115.68071016 1189.37114875 1192.64642084\n",
      " 1197.4505092  1231.99489449] \n",
      " [0.42081394 0.42553054 0.36021204 0.43312025 0.37721596 0.4415608\n",
      " 0.5496711 ] \n",
      "\n",
      "Current hyperparams: \n",
      " noise: 1.9599999999999997, constant_value: 4.099999999999999, length_scale: 4.099999999999999\n",
      "[4147.63947531 4016.80419022 4040.48386342 4061.2308279  3944.94314312\n",
      " 3809.10799311 4240.99679052] \n",
      " [ 938.27210729  939.56781663 1115.68071016 1189.37114875 1192.64642084\n",
      " 1197.4505092  1231.99489449] \n",
      " [0.42081411 0.42553071 0.36021217 0.43312042 0.3772161  0.44156097\n",
      " 0.54967134] \n",
      "\n",
      "Current hyperparams: \n",
      " noise: 1.9599999999999997, constant_value: 4.199999999999999, length_scale: 4.199999999999999\n",
      "[4147.63959918 4016.80439284 4040.48406349 4061.23100188 3944.94339822\n",
      " 3809.10831306 4240.99684691] \n",
      " [ 938.27210729  939.56781663 1115.68071016 1189.37114875 1192.64642084\n",
      " 1197.4505092  1231.99489449] \n",
      " [0.42081398 0.42553057 0.36021207 0.43312029 0.37721599 0.44156083\n",
      " 0.54967115] \n",
      "\n",
      "Current hyperparams: \n",
      " noise: 1.9599999999999997, constant_value: 4.299999999999999, length_scale: 4.299999999999999\n",
      "[4147.63986439 4016.80478344 4040.48442761 4061.23135245 3944.94385681\n",
      " 3809.10889542 4240.99706886] \n",
      " [ 938.27210729  939.56781663 1115.68071016 1189.37114875 1192.64642084\n",
      " 1197.4505092  1231.99489449] \n",
      " [0.42081377 0.42553035 0.3602119  0.43312007 0.37721582 0.4415606\n",
      " 0.54967085] \n",
      "\n",
      "Current hyperparams: \n",
      " noise: 1.9599999999999997, constant_value: 4.399999999999999, length_scale: 4.399999999999999\n",
      "[4147.63957236 4016.8043554  4040.48402972 4061.23096747 3944.943356\n",
      " 3809.10825904 4240.99681966] \n",
      " [ 938.27210729  939.56781663 1115.68071016 1189.37114875 1192.64642084\n",
      " 1197.4505092  1231.99489449] \n",
      " [0.42081399 0.42553059 0.36021208 0.4331203  0.37721601 0.44156085\n",
      " 0.54967117] \n",
      "\n",
      "Current hyperparams: \n",
      " noise: 1.9599999999999997, constant_value: 4.499999999999999, length_scale: 4.499999999999999\n",
      "[4147.6395707  4016.80433666 4040.48400322 4061.23095701 3944.94332012\n",
      " 3809.1082167  4240.99685644] \n",
      " [ 938.27210729  939.56781663 1115.68071016 1189.37114875 1192.64642084\n",
      " 1197.4505092  1231.99489449] \n",
      " [0.42081402 0.42553062 0.36021211 0.43312033 0.37721603 0.44156088\n",
      " 0.54967121] \n",
      "\n",
      "Current hyperparams: \n",
      " noise: 1.9599999999999997, constant_value: 4.599999999999999, length_scale: 4.599999999999999\n",
      "[4147.63962067 4016.80442451 4040.48409302 4061.2310303  3944.94343541\n",
      " 3809.10836029 4240.99686487] \n",
      " [ 938.27210729  939.56781663 1115.68071016 1189.37114875 1192.64642084\n",
      " 1197.4505092  1231.99489449] \n",
      " [0.42081396 0.42553055 0.36021206 0.43312027 0.37721598 0.44156081\n",
      " 0.54967112] \n",
      "\n",
      "Current hyperparams: \n",
      " noise: 1.9599999999999997, constant_value: 4.699999999999998, length_scale: 4.699999999999998\n",
      "[4147.6348301  4016.79747609 4040.47767491 4061.22475219 3944.93536857\n",
      " 3809.09809516 4240.99260486] \n",
      " [ 938.27210729  939.56781663 1115.68071016 1189.37114875 1192.64642084\n",
      " 1197.4505092  1231.99489449] \n",
      " [0.42081759 0.4255343  0.36021492 0.43312403 0.37721902 0.44156479\n",
      " 0.54967629] \n",
      "\n",
      "Current hyperparams: \n",
      " noise: 1.9599999999999997, constant_value: 4.799999999999999, length_scale: 4.799999999999999\n",
      "[4147.63970487 4016.80455689 4040.48422106 4061.23114585 3944.94359796\n",
      " 3809.10856506 4240.99691574] \n",
      " [ 938.27210729  939.56781663 1115.68071016 1189.37114875 1192.64642084\n",
      " 1197.4505092  1231.99489449] \n",
      " [0.42081388 0.42553047 0.36021199 0.43312018 0.37721591 0.44156073\n",
      " 0.54967101] \n",
      "\n",
      "Current hyperparams: \n",
      " noise: 1.9599999999999997, constant_value: 4.899999999999999, length_scale: 4.899999999999999\n",
      "[4147.63763281 4016.80167513 4040.48162879 4061.22849314 3944.94035927\n",
      " 3809.10441871 4240.99478368] \n",
      " [ 938.27210729  939.56781663 1115.68071016 1189.37114875 1192.64642084\n",
      " 1197.4505092  1231.99489449] \n",
      " [0.42081525 0.42553189 0.36021308 0.43312161 0.37721706 0.44156223\n",
      " 0.54967296] \n",
      "\n",
      "Current hyperparams: \n",
      " noise: 1.9599999999999997, constant_value: 4.999999999999998, length_scale: 4.999999999999998\n",
      "[4147.63934447 4016.80398395 4040.48366361 4061.23064806 3944.94288938\n",
      " 3809.10767357 4240.99671281] \n",
      " [ 938.27210729  939.56781663 1115.68071016 1189.37114875 1192.64642084\n",
      " 1197.4505092  1231.99489449] \n",
      " [0.42081423 0.42553084 0.36021227 0.43312055 0.37721621 0.44156111\n",
      " 0.54967151] \n",
      "\n",
      "Current hyperparams: \n",
      " noise: 1.9599999999999997, constant_value: 5.099999999999999, length_scale: 5.099999999999999\n",
      "[4496.51297745 4496.51154118 4496.51178464 4496.51200248 4496.51066638\n",
      " 4496.50912995 4496.51461989] \n",
      " [ 938.27210729  939.56781663 1115.68071016 1189.37114875 1192.64642084\n",
      " 1197.4505092  1231.99489449] \n",
      " [0.16272039 0.16272042 0.1627192  0.16272069 0.16271957 0.16272075\n",
      " 0.16272361] \n",
      "\n",
      "Current hyperparams: \n",
      " noise: 1.9599999999999997, constant_value: 5.199999999999998, length_scale: 5.199999999999998\n",
      "[4147.63958626 4016.80437535 4040.48404804 4061.23098558 3944.94337899\n",
      " 3809.10828834 4240.9968325 ] \n",
      " [ 938.27210729  939.56781663 1115.68071016 1189.37114875 1192.64642084\n",
      " 1197.4505092  1231.99489449] \n",
      " [0.42081398 0.42553058 0.36021208 0.43312029 0.377216   0.44156084\n",
      " 0.54967116] \n",
      "\n",
      "Current hyperparams: \n",
      " noise: 1.9599999999999997, constant_value: 5.299999999999999, length_scale: 5.299999999999999\n",
      "[4147.64009678 4016.80514383 4040.48477361 4061.23166884 3944.94429537\n",
      " 3809.10944876 4240.99722092] \n",
      " [ 938.27210729  939.56781663 1115.68071016 1189.37114875 1192.64642084\n",
      " 1197.4505092  1231.99489449] \n",
      " [0.42081355 0.42553013 0.36021174 0.43311985 0.37721564 0.44156037\n",
      " 0.54967055] \n",
      "\n",
      "Current hyperparams: \n",
      " noise: 1.9599999999999997, constant_value: 5.399999999999999, length_scale: 5.399999999999999\n",
      "[4147.64027475 4016.80541751 4040.48503516 4061.23190996 3944.94462656\n",
      " 3809.10986704 4240.99734277] \n",
      " [ 938.27210729  939.56781663 1115.68071016 1189.37114875 1192.64642084\n",
      " 1197.4505092  1231.99489449] \n",
      " [0.42081339 0.42552997 0.36021161 0.43311968 0.3772155  0.44156019\n",
      " 0.54967032] \n",
      "\n",
      "Current hyperparams: \n",
      " noise: 1.9599999999999997, constant_value: 5.499999999999998, length_scale: 5.499999999999998\n",
      "[4147.64269833 4016.80855613 4040.48772238 4061.23489492 3944.94794467\n",
      " 3809.11416579 4241.00037977] \n",
      " [ 938.27210729  939.56781663 1115.68071016 1189.37114875 1192.64642084\n",
      " 1197.4505092  1231.99489449] \n",
      " [0.42081216 0.42552869 0.36021063 0.4331184  0.37721447 0.44155884\n",
      " 0.54966856] \n",
      "\n"
     ]
    }
   ],
   "source": [
    "# noise = np.arange(0.05, 4.05, 0.05)\n",
    "noise = 1.4**2\n",
    "constant_value = np.arange(0.6, 5.6, 0.1)\n",
    "length_scale = np.arange(0.6, 5.6, 0.1)\n",
    "# for rq kernel\n",
    "alpha = np.arange(0.6, 5.6, 0.1)\n",
    "\n",
    "hyperparams = list(zip(constant_value, length_scale))\n",
    "\n",
    "# For writing results to file\n",
    "results_df = pd.DataFrame()\n",
    "\n",
    "for counter, params in enumerate(hyperparams):\n",
    "    # Change params indexing as tuple elements are added/removed from hyperparams\n",
    "    sigma_f = params[0]\n",
    "    l = params[1]\n",
    "    print(f'Current hyperparams: \\n noise: {noise}, constant_value: {sigma_f}, length_scale: {l}')\n",
    "\n",
    "    rbf = ConstantKernel(sigma_f) * RBF(length_scale=l)\n",
    "    # rq = ConstantKernel(1.0) * RationalQuadratic(length_scale=1.0, alpha=1.0)\n",
    "\n",
    "    # Set GP prior to training data's mean and cov with kernel\n",
    "    gpr = GaussianProcessRegressor(kernel=rbf, alpha=noise, n_restarts_optimizer=10)\n",
    "\n",
    "    gpr.fit(X_train, Y_train)\n",
    "    mean, cov = gpr.predict(X_test, return_std=True)\n",
    "    \n",
    "    # Store current iteration data\n",
    "    print(np.exp(mean), '\\n', np.exp(Y_test), '\\n', cov, '\\n')\n",
    "    current_results_df = pd.DataFrame({'run': counter, 'measured': np.exp(Y_test), 'predicted': np.exp(mean), 'variance': np.exp(cov),\n",
    "                            'rmse': mean_absolute_error(Y_test, mean), 'alpha/noise': noise,\n",
    "                            'initial_length scale': l, 'initial_sigma_f': sigma_f,\n",
    "                            'trained_length_scale': gpr.kernel_.k2.get_params()['length_scale'],\n",
    "                            'trained_sigma_f': np.sqrt(gpr.kernel_.k1.get_params()['constant_value'])})\n",
    "    \n",
    "    # Draw plots\n",
    "    # plotter(Y_test, mean, cov)\n",
    "    \n",
    "    # Join dataframes to save \n",
    "    results_df = pd.concat([results_df, current_results_df])\n",
    "    \n",
    "# write to file\n",
    "timestamp = time.strftime(\"%d_%m_%H_%M_%S\")\n",
    "results_df.round(4).to_csv(f'results_{timestamp}.csv', index=False)"
   ]
  },
  {
   "cell_type": "code",
   "execution_count": 63,
   "metadata": {},
   "outputs": [
    {
     "data": {
      "text/plain": [
       "'01_11_22_46_21'"
      ]
     },
     "execution_count": 63,
     "metadata": {},
     "output_type": "execute_result"
    }
   ],
   "source": [
    "\n",
    "timestr = time.strftime(\"%d_%m_%H_%M_%S\")\n",
    "timestr"
   ]
  },
  {
   "cell_type": "code",
   "execution_count": 77,
   "metadata": {},
   "outputs": [
    {
     "data": {
      "text/plain": [
       "(40, 8)"
      ]
     },
     "execution_count": 77,
     "metadata": {},
     "output_type": "execute_result"
    }
   ],
   "source": [
    "results_df.shape"
   ]
  },
  {
   "cell_type": "markdown",
   "metadata": {},
   "source": [
    "### LOOCV"
   ]
  },
  {
   "cell_type": "code",
   "execution_count": 11,
   "metadata": {},
   "outputs": [
    {
     "name": "stdout",
     "output_type": "stream",
     "text": [
      "log y_star:  [[4.93856906]]\n",
      "Predicted y_star:  [[5.76014688]]\n",
      "Predicted std:  [0.32051062]\n",
      "Test index:  [0]\n"
     ]
    }
   ],
   "source": [
    "# Leave-one-out\n",
    "loo = LeaveOneOut()\n",
    "n_splits = loo.get_n_splits(X)\n",
    "\n",
    "l = []\n",
    "mu = []\n",
    "cov = []\n",
    "sigma_f = []\n",
    "for train_index, test_index in loo.split(X):\n",
    "#     print('Train index: ', train_index, 'Test index: ', test_index)\n",
    "    X_star, X_train = X[test_index], X[train_index]\n",
    "    \n",
    "    # Replace the Y's with Y_log, Y_normalized, or Y_noisy as needed\n",
    "    Y_star, Y_train = Y_log[test_index], Y_log[train_index]\n",
    "    \n",
    "    # Reuse training data\n",
    "    gpr.fit(X_train, Y_train)\n",
    "\n",
    "    # Compute posterior mean and covariance\n",
    "    # Y_star\n",
    "    mu_s, cov_s = gpr.predict(X_star, return_std=True)\n",
    "    mu.append(mu_s)\n",
    "    cov.append(cov_s)\n",
    "    \n",
    "    print('log y_star: ', Y_star)\n",
    "    print('Predicted y_star: ', mu_s)\n",
    "    print('Predicted std: ', cov_s)\n",
    "    print('Test index: ', test_index)\n",
    "    \n",
    "    # Obtain optimized kernel parameters\n",
    "    l.append(gpr.kernel_.k2.get_params()['length_scale'])\n",
    "    sigma_f.append(np.sqrt(gpr.kernel_.k1.get_params()['constant_value']))\n",
    "    break\n",
    "\n",
    "# Plot the results\n",
    "# plot_gp(mu_s, cov_s, X, X_train=X_train, Y_train=Y_train)\n"
   ]
  }
 ],
 "metadata": {
  "interpreter": {
   "hash": "b3ba2566441a7c06988d0923437866b63cedc61552a5af99d1f4fb67d367b25f"
  },
  "kernelspec": {
   "display_name": "Python 3",
   "language": "python",
   "name": "python3"
  },
  "language_info": {
   "codemirror_mode": {
    "name": "ipython",
    "version": 3
   },
   "file_extension": ".py",
   "mimetype": "text/x-python",
   "name": "python",
   "nbconvert_exporter": "python",
   "pygments_lexer": "ipython3",
   "version": "3.8.8"
  }
 },
 "nbformat": 4,
 "nbformat_minor": 4
}
