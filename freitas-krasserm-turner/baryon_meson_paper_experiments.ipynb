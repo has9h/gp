{
 "cells": [
  {
   "cell_type": "code",
   "execution_count": null,
   "metadata": {},
   "outputs": [],
   "source": [
    "# Find running python kernel\n",
    "import sys\n",
    "import os\n",
    "print(os.getcwd())\n",
    "sys.executable"
   ]
  },
  {
   "cell_type": "code",
   "execution_count": 1,
   "metadata": {},
   "outputs": [],
   "source": [
    "# General imports\n",
    "import time\n",
    "import statistics\n",
    "import numpy as np\n",
    "import pandas as pd\n",
    "import matplotlib.pyplot as plt\n",
    "\n",
    "from IPython.display import display\n",
    "from matplotlib import animation, cm\n",
    "from mpl_toolkits.mplot3d import Axes3D\n",
    "\n",
    "from sklearn.preprocessing import StandardScaler\n",
    "from sklearn.metrics import mean_absolute_error\n",
    "from sklearn.neural_network import MLPRegressor\n",
    "from sklearn.ensemble import GradientBoostingRegressor\n",
    "from sklearn.gaussian_process import GaussianProcessRegressor\n",
    "from sklearn.model_selection import LeaveOneOut, train_test_split\n",
    "from sklearn.gaussian_process.kernels import ConstantKernel, RBF, RationalQuadratic\n",
    "%matplotlib inline"
   ]
  },
  {
   "cell_type": "markdown",
   "metadata": {},
   "source": [
    "## Data"
   ]
  },
  {
   "cell_type": "code",
   "execution_count": 2,
   "metadata": {},
   "outputs": [],
   "source": [
    "data_file = '../baryons-from-mesons/GaussianProcess/data/mesoninputs.dat'\n",
    "target_file = '../baryons-from-mesons/GaussianProcess/data/mMass.dat'\n",
    "test_file = '../baryons-from-mesons/GaussianProcess/data/baryoninputs.dat'\n",
    "test_target_file = '../baryons-from-mesons/GaussianProcess/data/bMass.dat'\n",
    "light_mesons_file = '../lightmesons.dat'\n",
    "\n",
    "data = np.loadtxt(data_file)\n",
    "target = np.loadtxt(target_file)\n",
    "test = np.loadtxt(test_file)\n",
    "test_target = np.loadtxt(test_target_file)"
   ]
  },
  {
   "cell_type": "markdown",
   "metadata": {},
   "source": [
    "### Light & Heavy Mesons"
   ]
  },
  {
   "cell_type": "code",
   "execution_count": 3,
   "metadata": {},
   "outputs": [],
   "source": [
    "light_mesons_file = '../lightmesons.dat'\n",
    "heavy_mesons_file = '../heavymesons.dat'\n",
    "\n",
    "light_mesons = np.loadtxt(light_mesons_file)\n",
    "heavy_mesons = np.loadtxt(heavy_mesons_file)"
   ]
  },
  {
   "cell_type": "code",
   "execution_count": 4,
   "metadata": {},
   "outputs": [],
   "source": [
    "# Identify index from main set to find corresponding masses of light/heavy mesons\n",
    "def find_index(meson_array):\n",
    "    return np.where((data==meson_array[:, None]).all(-1))[1]\n",
    "\n",
    "def make_dataset(meson_array, meson_index):\n",
    "    X_train = meson_array\n",
    "    Y_train = target[meson_index]\n",
    "    return X_train, Y_train"
   ]
  },
  {
   "cell_type": "code",
   "execution_count": 5,
   "metadata": {},
   "outputs": [
    {
     "data": {
      "text/plain": [
       "((122, 14), (122,))"
      ]
     },
     "execution_count": 5,
     "metadata": {},
     "output_type": "execute_result"
    }
   ],
   "source": [
    "# Light Mesons\n",
    "meson_index = find_index(light_mesons)\n",
    "X_train, Y_train = make_dataset(light_mesons, meson_index)\n",
    "X_train.shape, Y_train.shape"
   ]
  },
  {
   "cell_type": "code",
   "execution_count": 6,
   "metadata": {},
   "outputs": [
    {
     "data": {
      "text/plain": [
       "((74, 14), (74,))"
      ]
     },
     "execution_count": 6,
     "metadata": {},
     "output_type": "execute_result"
    }
   ],
   "source": [
    "# Heavy Mesons\n",
    "meson_index = find_index(heavy_mesons)\n",
    "X_test, Y_test = make_dataset(heavy_mesons, meson_index)\n",
    "X_test.shape, Y_test.shape"
   ]
  },
  {
   "cell_type": "markdown",
   "metadata": {},
   "source": [
    "### Light & Heavy Baryons"
   ]
  },
  {
   "cell_type": "code",
   "execution_count": 32,
   "metadata": {},
   "outputs": [],
   "source": [
    "light_baryons_file = '../lightbaryons.dat'\n",
    "heavy_baryons_file = '../heavybaryons.dat'\n",
    "\n",
    "light_baryons = np.loadtxt(light_baryons_file)\n",
    "heavy_baryons = np.loadtxt(heavy_baryons_file)"
   ]
  },
  {
   "cell_type": "code",
   "execution_count": null,
   "metadata": {},
   "outputs": [],
   "source": [
    "# Light Baryons\n",
    "baryon_index = find_index(light_baryons)\n",
    "make_dataset(light_baryons, baryon_index)"
   ]
  },
  {
   "cell_type": "markdown",
   "metadata": {},
   "source": [
    "#### Filtering out Baryons"
   ]
  },
  {
   "cell_type": "code",
   "execution_count": null,
   "metadata": {},
   "outputs": [],
   "source": [
    "# np.where((test == (0, 0, 2, 0, 1, 0, 0, 0, 0, 0, 1, 0.5, 1, 0)).all(axis=1))\n",
    "\n",
    "# 7 baryons: p, n, lambda^{0}, sigma^{+}, sigma^{0}, sigma^{-}, delta^{++}\n",
    "indices = [0, 1, 2, 5, 6, 7, 24]\n",
    "X_test = test[indices]\n",
    "Y_test = test_target[indices]\n",
    "\n",
    "Y_test"
   ]
  },
  {
   "cell_type": "markdown",
   "metadata": {},
   "source": [
    "#### Filtering out Mesons"
   ]
  },
  {
   "cell_type": "code",
   "execution_count": null,
   "metadata": {},
   "outputs": [],
   "source": [
    "# np.where((data == (0, 0, 0, 0, 0, 1, 1, 1, 0, 0, 0, 0, 1, 0)).all(axis=1))\n",
    "\n",
    "# Mesons found in dataset: a_0, f_0, D_{s1}^{-}, D_{s1}^{+}\n",
    "indices = [10, 28, 137, 138]\n",
    "X_test = data[indices]\n",
    "Y_test = target[indices]\n",
    "\n",
    "Y_test"
   ]
  },
  {
   "cell_type": "markdown",
   "metadata": {},
   "source": [
    "## Kernels\n",
    "\n",
    "Recall the covariance function\n",
    "\n",
    "$$\\mathrm{cov}(\\mathbf{x}_i,\\mathbf{x}_j) = \\kappa(\\mathbf{x}_i,\\mathbf{x}_j) + N_{i,j} \\;, \\text{where} \\; N_{i,j} = \\sigma_y^2 \\delta_{i,j}$$\n",
    "\n",
    "where the squared exponential can be written as\n",
    "\n",
    "$$\n",
    "K_{\\textrm{SE}}(\\mathbf{x}_i,\\mathbf{x}_j) =\n",
    "\\sigma_f^2 \\exp\\left(-\\frac{1}{2l^2}\n",
    "  (\\mathbf{x}_i - \\mathbf{x}_j)^T\n",
    "  (\\mathbf{x}_i - \\mathbf{x}_j)\\right)\n",
    "$$\n",
    "\n",
    "and the rational quadratic kernel is\n",
    "\n",
    "$$\n",
    "K_{\\textrm{RQ}}(\\mathbf{x}_i,\\mathbf{x}_j) =\n",
    "\\sigma_f^2 \\exp\\left(1 + \\frac{1}{2 \\alpha}\n",
    "  (\\mathbf{x}_i - \\mathbf{x}_j)^T\n",
    "  (\\mathbf{x}_i - \\mathbf{x}_j)\\right)^{-\\alpha}\n",
    "$$\n",
    "\n",
    "The prior's covariance is specified by the kernel function. The prior mean is assumed to be data's mean if `normalize_y=True` is passed, and set to constant and $0$ otherwise. \n",
    "\n",
    "Hyperparameters of the kernel are optimized during fitting by maximizing the log-marginal-likelihood, based on the passed optimizer. Optimizer can be started repeatedly by specifying the `n_restarts_optimizer` parameter, as it may have multiple local optima.\n",
    "\n",
    "Starting from the initial hyperparameter values of the kernel, subsequent runs are conducted from hyperparameter values that have been chosen randomly from the range of allowed values.\n",
    "\n",
    "The noise level in the targets can be specified by passing it via the parameter `alpha`, either globally as a scalar or per datapoint. This is added to the diagonal of the kernel matrix during fitting. It can also be interpreted as the variance of additional Gaussian measurement noise on the training observations.\n",
    "\n",
    "The `RBF`/`SE` kernel only has an `l` parameter which corresponds to the `length_scale` parameter. To have a $\\sigma_f$ parameter as well, we have to compose the `RBF` kernel with a `ConstantKernel`. `l` can either be a scalar (isotropic variant of the kernel) or a vector with the same number of dimensions as the inputs X (anisotropic variant of the kernel).\n",
    "\n",
    "The `RationalQuadratic` kernel is parameterized by a length scale parameter $l > 0$ and a scale mixture parameter $\\alpha > 0$. Only the isotropic variant where `length_scale` is a scalar is supported by `sklearn`."
   ]
  },
  {
   "cell_type": "markdown",
   "metadata": {},
   "source": [
    "## Models"
   ]
  },
  {
   "cell_type": "code",
   "execution_count": 7,
   "metadata": {},
   "outputs": [],
   "source": [
    "def plotter(ground_truth, prediction, cov):\n",
    "    # Plot the mean and variances\n",
    "    fig, ax = plt.subplots(figsize=(10, 8))\n",
    "\n",
    "    # Set font size\n",
    "    FONT_MEDIUM = 20\n",
    "    plt.rc('axes', labelsize=FONT_MEDIUM)    # fontsize of the x and y labelsb\n",
    "\n",
    "    ax.scatter(ground_truth, prediction)\n",
    "    ax.errorbar(ground_truth, prediction, yerr=cov, linestyle='None')\n",
    "    ax.set_ylabel('Predicted mass (MeV, Log Scale)')\n",
    "    ax.set_xlabel('Measured mass (MeV, Log Scale)')\n",
    "    plt.show()"
   ]
  },
  {
   "cell_type": "markdown",
   "metadata": {},
   "source": [
    "### Gaussian Processes"
   ]
  },
  {
   "cell_type": "markdown",
   "metadata": {},
   "source": [
    "For Gaussian processes, we need to add an additional value to distinguish between different particles that constitute the same vector, ranked in order of their masses. From the paper, we will also be using the squared exponential (SE) and rational quadratic (RQ) kernels."
   ]
  },
  {
   "cell_type": "code",
   "execution_count": null,
   "metadata": {},
   "outputs": [],
   "source": [
    "# noise = np.arange(0.05, 4.05, 0.05)\n",
    "noise = 1.4**2\n",
    "constant_value = np.arange(0.6, 5.6, 0.1)\n",
    "length_scale = np.arange(0.6, 5.6, 0.1)\n",
    "# for rq kernel\n",
    "alpha = np.arange(0.6, 5.6, 0.1)\n",
    "\n",
    "hyperparams = list(zip(constant_value, length_scale))\n",
    "\n",
    "# For writing results to file\n",
    "results_df = pd.DataFrame()\n",
    "\n",
    "for counter, params in enumerate(hyperparams):\n",
    "    # Change params indexing as tuple elements are added/removed from hyperparams\n",
    "    sigma_f = params[0]\n",
    "    l = params[1]\n",
    "    print(f'Current hyperparams: \\n noise: {noise}, constant_value: {sigma_f}, length_scale: {l}')\n",
    "\n",
    "    rbf = ConstantKernel(sigma_f) * RBF(length_scale=l)\n",
    "    # rq = ConstantKernel(1.0) * RationalQuadratic(length_scale=1.0, alpha=1.0)\n",
    "\n",
    "    # Set GP prior to training data's mean and cov with kernel\n",
    "    gpr = GaussianProcessRegressor(kernel=rbf, alpha=noise, n_restarts_optimizer=10)\n",
    "\n",
    "    gpr.fit(X_train, Y_train)\n",
    "    mean, cov = gpr.predict(X_test, return_std=True)\n",
    "    \n",
    "    # Store current iteration data\n",
    "    print(np.exp(mean), '\\n', np.exp(Y_test), '\\n', cov, '\\n')\n",
    "    current_results_df = pd.DataFrame({'run': counter, 'measured': np.exp(Y_test), 'predicted': np.exp(mean), 'variance': np.exp(cov),\n",
    "                            'rmse': mean_absolute_error(Y_test, mean), 'alpha/noise': noise,\n",
    "                            'initial_length scale': l, 'initial_sigma_f': sigma_f,\n",
    "                            'trained_length_scale': gpr.kernel_.k2.get_params()['length_scale'],\n",
    "                            'trained_sigma_f': np.sqrt(gpr.kernel_.k1.get_params()['constant_value'])})\n",
    "    \n",
    "    # Draw plots\n",
    "    plotter(Y_test, mean, cov)\n",
    "    \n",
    "    # Join dataframes to save \n",
    "    results_df = pd.concat([results_df, current_results_df])\n",
    "    \n",
    "# write to file\n",
    "timestamp = time.strftime(\"%d_%m_%H_%M_%S\")\n",
    "results_df.round(4).to_csv(f'results_{timestamp}.csv', index=False)"
   ]
  },
  {
   "cell_type": "markdown",
   "metadata": {},
   "source": [
    "### Neural Networks"
   ]
  },
  {
   "cell_type": "code",
   "execution_count": null,
   "metadata": {},
   "outputs": [],
   "source": [
    "iterations = 1000\n",
    "nn_predictions = []\n",
    "\n",
    "for _ in range(iterations):\n",
    "    regr = MLPRegressor(hidden_layer_sizes=(), max_iter=500, solver='lbfgs').fit(X_train, Y_train)\n",
    "    predictions.append(regr.predict(X_test))\n",
    "\n",
    "nn_predictions\n",
    "# regr.score(X_test, Y_test)"
   ]
  },
  {
   "cell_type": "code",
   "execution_count": 21,
   "metadata": {},
   "outputs": [],
   "source": [
    "mean_nn = [statistics.mean(k) for k in zip(*nn_predictions)]\n",
    "std_nn = [statistics.stdev(k) for k in zip(*nn_predictions)]"
   ]
  },
  {
   "cell_type": "code",
   "execution_count": 31,
   "metadata": {},
   "outputs": [
    {
     "data": {
      "text/html": [
       "<div>\n",
       "<style scoped>\n",
       "    .dataframe tbody tr th:only-of-type {\n",
       "        vertical-align: middle;\n",
       "    }\n",
       "\n",
       "    .dataframe tbody tr th {\n",
       "        vertical-align: top;\n",
       "    }\n",
       "\n",
       "    .dataframe thead th {\n",
       "        text-align: right;\n",
       "    }\n",
       "</style>\n",
       "<table border=\"1\" class=\"dataframe\">\n",
       "  <thead>\n",
       "    <tr style=\"text-align: right;\">\n",
       "      <th></th>\n",
       "      <th>measured</th>\n",
       "      <th>predicted</th>\n",
       "    </tr>\n",
       "  </thead>\n",
       "  <tbody>\n",
       "    <tr>\n",
       "      <th>0</th>\n",
       "      <td>1869.65</td>\n",
       "      <td>307.915226</td>\n",
       "    </tr>\n",
       "    <tr>\n",
       "      <th>1</th>\n",
       "      <td>1869.65</td>\n",
       "      <td>234.622750</td>\n",
       "    </tr>\n",
       "    <tr>\n",
       "      <th>2</th>\n",
       "      <td>1864.83</td>\n",
       "      <td>236.928470</td>\n",
       "    </tr>\n",
       "    <tr>\n",
       "      <th>3</th>\n",
       "      <td>2006.85</td>\n",
       "      <td>318.102545</td>\n",
       "    </tr>\n",
       "    <tr>\n",
       "      <th>4</th>\n",
       "      <td>2010.26</td>\n",
       "      <td>413.410078</td>\n",
       "    </tr>\n",
       "    <tr>\n",
       "      <th>...</th>\n",
       "      <td>...</td>\n",
       "      <td>...</td>\n",
       "    </tr>\n",
       "    <tr>\n",
       "      <th>69</th>\n",
       "      <td>10513.40</td>\n",
       "      <td>124.891418</td>\n",
       "    </tr>\n",
       "    <tr>\n",
       "      <th>70</th>\n",
       "      <td>10524.00</td>\n",
       "      <td>127.200121</td>\n",
       "    </tr>\n",
       "    <tr>\n",
       "      <th>71</th>\n",
       "      <td>10579.40</td>\n",
       "      <td>110.980655</td>\n",
       "    </tr>\n",
       "    <tr>\n",
       "      <th>72</th>\n",
       "      <td>10889.90</td>\n",
       "      <td>146.299302</td>\n",
       "    </tr>\n",
       "    <tr>\n",
       "      <th>73</th>\n",
       "      <td>10992.90</td>\n",
       "      <td>192.857806</td>\n",
       "    </tr>\n",
       "  </tbody>\n",
       "</table>\n",
       "<p>74 rows × 2 columns</p>\n",
       "</div>"
      ],
      "text/plain": [
       "    measured   predicted\n",
       "0    1869.65  307.915226\n",
       "1    1869.65  234.622750\n",
       "2    1864.83  236.928470\n",
       "3    2006.85  318.102545\n",
       "4    2010.26  413.410078\n",
       "..       ...         ...\n",
       "69  10513.40  124.891418\n",
       "70  10524.00  127.200121\n",
       "71  10579.40  110.980655\n",
       "72  10889.90  146.299302\n",
       "73  10992.90  192.857806\n",
       "\n",
       "[74 rows x 2 columns]"
      ]
     },
     "execution_count": 31,
     "metadata": {},
     "output_type": "execute_result"
    }
   ],
   "source": [
    "pd.DataFrame({'measured': np.exp(Y_test), 'predicted': np.exp(mean_nn)})"
   ]
  },
  {
   "cell_type": "code",
   "execution_count": 23,
   "metadata": {},
   "outputs": [
    {
     "data": {
      "image/png": "[encoded data removed]",
      "text/plain": [
       "<Figure size 720x576 with 1 Axes>"
      ]
     },
     "metadata": {
      "needs_background": "light"
     },
     "output_type": "display_data"
    }
   ],
   "source": [
    "plotter(Y_test, mean_nn, std_nn)"
   ]
  },
  {
   "cell_type": "code",
   "execution_count": 19,
   "metadata": {},
   "outputs": [
    {
     "data": {
      "text/plain": [
       "array([7.53350653, 7.53350653, 7.53092518, 7.60432161, 7.60601935,\n",
       "       7.60601935, 7.74846002, 7.79185334, 7.80820114, 7.81010935,\n",
       "       7.81010935, 7.58494583, 7.58494583, 7.65548534, 7.65548534,\n",
       "       7.83799231, 7.83799231, 7.85131092, 7.85131092, 7.90407641,\n",
       "       7.90407641, 8.57155447, 8.57155447, 8.57161319, 8.58010226,\n",
       "       8.58010226, 8.58010226, 8.65275502, 8.65275502, 8.65278995,\n",
       "       8.65275502, 8.65275502, 8.65278995, 8.65472657, 8.65472657,\n",
       "       8.65512738, 8.58800201, 8.67053726, 8.67246039, 8.59700203,\n",
       "       8.00098645, 8.03815689, 8.13584785, 8.16356218, 8.16774351,\n",
       "       8.1764394 , 8.19905191, 8.21232345, 8.23566017, 8.24858145,\n",
       "       8.27343869, 8.27568198, 8.30375242, 8.33009223, 8.34069465,\n",
       "       8.36030544, 8.39412119, 9.14832666, 9.15485937, 9.19618465,\n",
       "       9.19956048, 9.20021933, 9.20152261, 9.21266367, 9.22657783,\n",
       "       9.23332421, 9.23556553, 9.23685084, 9.24524409, 9.26040591,\n",
       "       9.26141364, 9.26666399, 9.29559103, 9.30500489])"
      ]
     },
     "execution_count": 19,
     "metadata": {},
     "output_type": "execute_result"
    }
   ],
   "source": [
    "Y_test"
   ]
  },
  {
   "cell_type": "markdown",
   "metadata": {},
   "source": [
    "### Gradient Boosting\n"
   ]
  },
  {
   "cell_type": "code",
   "execution_count": 25,
   "metadata": {},
   "outputs": [],
   "source": [
    "iterations = 1000\n",
    "gb_predictions = []\n",
    "\n",
    "for _ in range(iterations):\n",
    "    reg = GradientBoostingRegressor().fit(X_train, Y_train)\n",
    "    predictions.append(reg.predict(X_test))\n",
    "\n",
    "# plt.scatter(reg.predict(X_test), Y_test)\n",
    "mean_gb = [statistics.mean(k) for k in zip(*predictions)]\n",
    "std_gb = [statistics.stdev(k) for k in zip(*predictions)]"
   ]
  },
  {
   "cell_type": "code",
   "execution_count": 29,
   "metadata": {},
   "outputs": [
    {
     "data": {
      "text/html": [
       "<div>\n",
       "<style scoped>\n",
       "    .dataframe tbody tr th:only-of-type {\n",
       "        vertical-align: middle;\n",
       "    }\n",
       "\n",
       "    .dataframe tbody tr th {\n",
       "        vertical-align: top;\n",
       "    }\n",
       "\n",
       "    .dataframe thead th {\n",
       "        text-align: right;\n",
       "    }\n",
       "</style>\n",
       "<table border=\"1\" class=\"dataframe\">\n",
       "  <thead>\n",
       "    <tr style=\"text-align: right;\">\n",
       "      <th></th>\n",
       "      <th>measured</th>\n",
       "      <th>predicted</th>\n",
       "    </tr>\n",
       "  </thead>\n",
       "  <tbody>\n",
       "    <tr>\n",
       "      <th>0</th>\n",
       "      <td>1869.65</td>\n",
       "      <td>283.989998</td>\n",
       "    </tr>\n",
       "    <tr>\n",
       "      <th>1</th>\n",
       "      <td>1869.65</td>\n",
       "      <td>359.839780</td>\n",
       "    </tr>\n",
       "    <tr>\n",
       "      <th>2</th>\n",
       "      <td>1864.83</td>\n",
       "      <td>371.091095</td>\n",
       "    </tr>\n",
       "    <tr>\n",
       "      <th>3</th>\n",
       "      <td>2006.85</td>\n",
       "      <td>882.414233</td>\n",
       "    </tr>\n",
       "    <tr>\n",
       "      <th>4</th>\n",
       "      <td>2010.26</td>\n",
       "      <td>879.696705</td>\n",
       "    </tr>\n",
       "    <tr>\n",
       "      <th>...</th>\n",
       "      <td>...</td>\n",
       "      <td>...</td>\n",
       "    </tr>\n",
       "    <tr>\n",
       "      <th>69</th>\n",
       "      <td>10513.40</td>\n",
       "      <td>1686.920118</td>\n",
       "    </tr>\n",
       "    <tr>\n",
       "      <th>70</th>\n",
       "      <td>10524.00</td>\n",
       "      <td>1972.574768</td>\n",
       "    </tr>\n",
       "    <tr>\n",
       "      <th>71</th>\n",
       "      <td>10579.40</td>\n",
       "      <td>1735.468934</td>\n",
       "    </tr>\n",
       "    <tr>\n",
       "      <th>72</th>\n",
       "      <td>10889.90</td>\n",
       "      <td>1757.122642</td>\n",
       "    </tr>\n",
       "    <tr>\n",
       "      <th>73</th>\n",
       "      <td>10992.90</td>\n",
       "      <td>1757.122642</td>\n",
       "    </tr>\n",
       "  </tbody>\n",
       "</table>\n",
       "<p>74 rows × 2 columns</p>\n",
       "</div>"
      ],
      "text/plain": [
       "    measured    predicted\n",
       "0    1869.65   283.989998\n",
       "1    1869.65   359.839780\n",
       "2    1864.83   371.091095\n",
       "3    2006.85   882.414233\n",
       "4    2010.26   879.696705\n",
       "..       ...          ...\n",
       "69  10513.40  1686.920118\n",
       "70  10524.00  1972.574768\n",
       "71  10579.40  1735.468934\n",
       "72  10889.90  1757.122642\n",
       "73  10992.90  1757.122642\n",
       "\n",
       "[74 rows x 2 columns]"
      ]
     },
     "execution_count": 29,
     "metadata": {},
     "output_type": "execute_result"
    }
   ],
   "source": [
    "pd.DataFrame({'measured': np.exp(Y_test), 'predicted': np.exp(mean_gb)})"
   ]
  },
  {
   "cell_type": "code",
   "execution_count": 30,
   "metadata": {},
   "outputs": [
    {
     "data": {
      "image/png": "[encoded data removed]",
      "text/plain": [
       "<Figure size 720x576 with 1 Axes>"
      ]
     },
     "metadata": {
      "needs_background": "light"
     },
     "output_type": "display_data"
    }
   ],
   "source": [
    "plotter(np.exp(Y_test), np.exp(mean_gb), np.exp(std_gb))"
   ]
  }
 ],
 "metadata": {
  "kernelspec": {
   "display_name": "Python 3",
   "language": "python",
   "name": "python3"
  },
  "language_info": {
   "codemirror_mode": {
    "name": "ipython",
    "version": 3
   },
   "file_extension": ".py",
   "mimetype": "text/x-python",
   "name": "python",
   "nbconvert_exporter": "python",
   "pygments_lexer": "ipython3",
   "version": "3.8.8"
  }
 },
 "nbformat": 4,
 "nbformat_minor": 4
}
