{
 "cells": [
  {
   "cell_type": "code",
   "execution_count": 4,
   "metadata": {},
   "outputs": [],
   "source": [
    "from sklearn.gaussian_process import GaussianProcessRegressor\r\n",
    "from sklearn.gaussian_process.kernels import WhiteKernel, DotProduct, RBF\r\n",
    "import matplotlib.pyplot as plt\r\n",
    "import numpy as np\r\n",
    "%matplotlib inline"
   ]
  },
  {
   "cell_type": "code",
   "execution_count": 43,
   "metadata": {},
   "outputs": [
    {
     "name": "stderr",
     "output_type": "stream",
     "text": [
      "e:\\hasnain\\uni\\agency lab\\codebase\\gaussian-processes\\env\\lib\\site-packages\\sklearn\\gaussian_process\\kernels.py:402: ConvergenceWarning: The optimal value found for dimension 0 of parameter k2__noise_level is close to the specified lower bound 1e-05. Decreasing the bound and calling fit again may find a better value.\n",
      "  warnings.warn(\"The optimal value found for \"\n"
     ]
    },
    {
     "data": {
      "text/plain": [
       "GaussianProcessRegressor(kernel=RBF(length_scale=1) + WhiteKernel(noise_level=1),\n",
       "                         random_state=0)"
      ]
     },
     "execution_count": 43,
     "metadata": {},
     "output_type": "execute_result"
    }
   ],
   "source": [
    "# Random seeds\r\n",
    "np.random.seed(seed=0)  # Set seed for NumPy\r\n",
    "random_state = 0\r\n",
    "\r\n",
    "# Generate features, and take norm for use with target\r\n",
    "x = np.random.normal(loc=0, scale=1, size=(50, 1))\r\n",
    "y = np.sin(x) + np.cos(x)\r\n",
    "\r\n",
    "# Create kernel and define GPR\r\n",
    "kernel = RBF() + WhiteKernel()\r\n",
    "gpr = GaussianProcessRegressor(kernel=kernel, random_state=random_state)\r\n",
    "\r\n",
    "# Fit GPR model\r\n",
    "gpr.fit(x, y)"
   ]
  },
  {
   "cell_type": "code",
   "execution_count": 44,
   "metadata": {},
   "outputs": [
    {
     "data": {
      "image/png": "[encoded data removed]",
      "text/plain": [
       "<Figure size 720x648 with 1 Axes>"
      ]
     },
     "metadata": {
      "needs_background": "light"
     },
     "output_type": "display_data"
    }
   ],
   "source": [
    "# Create test data\r\n",
    "x_test = np.random.normal(loc=0, scale=1, size=(50, 1))\r\n",
    "y_test = np.sin(x_test)\r\n",
    " \r\n",
    "# Predict mean\r\n",
    "y_hat, y_sigma = gpr.predict(x_test, return_std=True)\r\n",
    "\r\n",
    "# Initialize plot\r\n",
    "f, ax = plt.subplots(1, 1, figsize=(10, 9))\r\n",
    "\r\n",
    "# Squeeze data\r\n",
    "x = np.squeeze(x)\r\n",
    "y = np.squeeze(y)\r\n",
    "x_test = np.squeeze(x_test)\r\n",
    "y_test = np.squeeze(y_test)\r\n",
    "\r\n",
    "# Plot the training data\r\n",
    "ax.scatter(x, y, marker='.')\r\n",
    "\r\n",
    "# Plot predictive means as blue line\r\n",
    "ax.scatter(x_test, y_hat, c='r', marker='o')\r\n",
    "\r\n",
    "# Shade between the lower and upper confidence bounds\r\n",
    "lower = x_test - y_sigma\r\n",
    "upper = x_test + y_sigma\r\n",
    "ax.fill_between(x_test, lower, upper, alpha=0.5)\r\n",
    "ax.set_ylim([-3, 3])\r\n",
    "plt.title(\"GPR Model Predictions\")\r\n",
    "plt.show()"
   ]
  },
  {
   "cell_type": "markdown",
   "metadata": {},
   "source": [
    "## Test Code from [sklearn](https://scikit-learn.org/stable/modules/generated/sklearn.gaussian_process.kernels.RBF.html#redc669bcbe98-1)"
   ]
  },
  {
   "cell_type": "code",
   "execution_count": 27,
   "metadata": {},
   "outputs": [],
   "source": [
    "from sklearn.datasets import load_iris\r\n",
    "from sklearn.gaussian_process import GaussianProcessRegressor\r\n",
    "from sklearn.gaussian_process.kernels import RBF, ConstantKernel"
   ]
  },
  {
   "cell_type": "code",
   "execution_count": 13,
   "metadata": {},
   "outputs": [],
   "source": [
    "# Data\r\n",
    "X, y = load_iris(return_X_y=True)"
   ]
  }
 ],
 "metadata": {
  "interpreter": {
   "hash": "e963df554160294a45344115c21b0ded0b1d02fb31825630821e7aea8471ed27"
  },
  "kernelspec": {
   "display_name": "Python 3",
   "language": "python",
   "name": "python3"
  },
  "language_info": {
   "codemirror_mode": {
    "name": "ipython",
    "version": 3
   },
   "file_extension": ".py",
   "mimetype": "text/x-python",
   "name": "python",
   "nbconvert_exporter": "python",
   "pygments_lexer": "ipython3",
   "version": "3.8.8"
  }
 },
 "nbformat": 4,
 "nbformat_minor": 4
}
