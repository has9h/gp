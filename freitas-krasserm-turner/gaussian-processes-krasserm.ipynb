{
 "cells": [
  {
   "cell_type": "code",
   "execution_count": 79,
   "metadata": {},
   "outputs": [
    {
     "data": {
      "text/plain": [
       "'C:\\\\ProgramData\\\\Anaconda3\\\\python.exe'"
      ]
     },
     "execution_count": 79,
     "metadata": {},
     "output_type": "execute_result"
    }
   ],
   "source": [
    "# Find running python kernel\n",
    "import sys\n",
    "sys.executable"
   ]
  },
  {
   "cell_type": "code",
   "execution_count": 1,
   "metadata": {},
   "outputs": [],
   "source": [
    "# General imports\n",
    "import numpy as np\n",
    "import matplotlib.pyplot as plt\n",
    "import pandas as pd\n",
    "\n",
    "from IPython.display import display\n",
    "from matplotlib import animation, cm\n",
    "from mpl_toolkits.mplot3d import Axes3D\n",
    "%matplotlib inline"
   ]
  },
  {
   "cell_type": "markdown",
   "metadata": {},
   "source": [
    "## Custom Functions"
   ]
  },
  {
   "cell_type": "code",
   "execution_count": 2,
   "metadata": {},
   "outputs": [],
   "source": [
    "def kernel(X1, X2, l=1.0, sigma_f=1.0):\n",
    "    \"\"\"\n",
    "    Isotropic squared exponential kernel.\n",
    "    \n",
    "    Args:`\n",
    "\n",
    "    Returns:\n",
    "        (m x n) matrix.\n",
    "    \"\"\"\n",
    "    sqdist = np.sum(X1**2, 1).reshape(-1, 1) + np.sum(X2**2, 1) - 2 * np.dot(X1, X2.T)\n",
    "    return sigma_f**2 * np.exp(-0.5 / l**2 * sqdist)\n"
   ]
  },
  {
   "cell_type": "code",
   "execution_count": 3,
   "metadata": {},
   "outputs": [],
   "source": [
    "def plot_gp(mu, cov, X, X_train=None, Y_train=None, samples=[]):\n",
    "    X = X.ravel()\n",
    "    mu = mu.ravel()\n",
    "    uncertainty = 1.96 * np.sqrt(np.diag(cov))\n",
    "    \n",
    "    plt.fill_between(X, mu + uncertainty, mu - uncertainty, alpha=0.1)\n",
    "    plt.plot(X, mu, label='Mean')\n",
    "    for i, sample in enumerate(samples):\n",
    "        plt.plot(X, sample, lw=1, ls='--', label=f'Sample {i+1}')\n",
    "    if X_train is not None:\n",
    "        plt.plot(X_train, Y_train, 'rx')\n",
    "    plt.legend()\n"
   ]
  },
  {
   "cell_type": "markdown",
   "metadata": {},
   "source": [
    "## Prior on 1D Data"
   ]
  },
  {
   "cell_type": "code",
   "execution_count": 4,
   "metadata": {},
   "outputs": [],
   "source": [
    "# Finite number of points\n",
    "X = np.arange(-5, 5, 0.2).reshape(-1, 1)\n",
    "\n",
    "# Mean and covariance of the prior\n",
    "mu = np.zeros(X.shape)\n",
    "cov = kernel(X, X)\n",
    "\n",
    "# Draw three samples from the prior\n",
    "samples = np.random.multivariate_normal(mu.ravel(), cov, 3)\n",
    "\n",
    "# Plot GP mean, uncertainty region and samples \n",
    "# plot_gp(mu, cov, X, samples=samples)\n"
   ]
  },
  {
   "cell_type": "markdown",
   "metadata": {},
   "source": [
    "# Posterior\n",
    "\n",
    "## Prediction from noise-free training data\n",
    "\n",
    "Given a training dataset with noise-free function values $\\mathbf{f}$ at inputs $\\mathbf{X}$, a GP prior can be converted into a GP posterior $p(\\mathbf{f}^* \\vert \\mathbf{X}^*, \\mathbf{X}, \\mathbf{f})$ which can then be used to make predictions $\\mathbf{f}^*$ at new inputs $\\mathbf{X}^*$. By definition of a GP, the joint distribution of observed values $\\mathbf{f}$ and predictions $\\mathbf{f}^*$ is again a Gaussian which can be partitioned into\n",
    "\n",
    "$$\n",
    "\\begin{pmatrix}\n",
    "    \\mathbf{f} \\\\\n",
    "    \\mathbf{f}_*\n",
    "\\end{pmatrix} \\sim \\mathcal{N}\n",
    "\\left(\\boldsymbol{0},\n",
    "\\begin{pmatrix}\n",
    "    \\mathbf{K} & \\mathbf{K}_* \\\\\n",
    "    \\mathbf{K}_*^T & \\mathbf{K}_{**}\n",
    "\\end{pmatrix}\n",
    "\\right)\\tag{2}\n",
    "$$\n",
    "\n",
    "$$\n",
    "\\begin{align*}\n",
    "p(\\mathbf{f}_* \\lvert \\mathbf{X}_*,\\mathbf{X},\\mathbf{f}) &= \\mathcal{N}(\\mathbf{f}_* \\lvert \\boldsymbol{\\mu}_*, \\boldsymbol{\\Sigma}_*) \\\\\n",
    "\\boldsymbol{\\mu_*} &= \\mathbf{K}_*^T \\mathbf{K}^{-1} \\mathbf{f} \\\\\n",
    "\\boldsymbol{\\Sigma_*} &= \\mathbf{K}_{**} - \\mathbf{K}_*^T \\mathbf{K}^{-1} \\mathbf{K}_*\n",
    "\\end{align*}\n",
    "$$"
   ]
  },
  {
   "cell_type": "code",
   "execution_count": 5,
   "metadata": {},
   "outputs": [],
   "source": [
    "from numpy.linalg import inv\n",
    "\n",
    "def posterior(X_s, X_train, Y_train, l=1.0, sigma_f=1.0, sigma_y=1e-8):\n",
    "    \"\"\"\n",
    "    Computes the suffifient statistics of the posterior distribution \n",
    "    from m training data X_train and Y_train and n new inputs X_s.\n",
    "    \n",
    "    Args:\n",
    "        X_s: New input locations (n x d).\n",
    "        X_train: Training locations (m x d).\n",
    "        Y_train: Training targets (m x 1).\n",
    "        l: Kernel length parameter.\n",
    "        sigma_f: Kernel vertical variation parameter.\n",
    "        sigma_y: Noise parameter.\n",
    "    \n",
    "    Returns:\n",
    "        Posterior mean vector (n x d) and covariance matrix (n x n).\n",
    "    \"\"\"\n",
    "    K = kernel(X_train, X_train, l, sigma_f) + sigma_y**2 * np.eye(len(X_train))\n",
    "    K_s = kernel(X_train, X_s, l, sigma_f)\n",
    "    K_ss = kernel(X_s, X_s, l, sigma_f) + 1e-8 * np.eye(len(X_s))\n",
    "    K_inv = inv(K)\n",
    "    \n",
    "    # Equation (7)\n",
    "    mu_s = K_s.T.dot(K_inv).dot(Y_train)\n",
    "\n",
    "    # Equation (8)\n",
    "    cov_s = K_ss - K_s.T.dot(K_inv).dot(K_s)\n",
    "    \n",
    "    return mu_s, cov_s\n"
   ]
  },
  {
   "cell_type": "markdown",
   "metadata": {},
   "source": [
    "### 1D Train Data"
   ]
  },
  {
   "cell_type": "code",
   "execution_count": null,
   "metadata": {},
   "outputs": [],
   "source": [
    "# Noise free training data\n",
    "X_train = np.array([-4, -3, -2, -1, 1]).reshape(-1, 1)\n",
    "Y_train = np.sin(X_train)"
   ]
  },
  {
   "cell_type": "code",
   "execution_count": null,
   "metadata": {},
   "outputs": [],
   "source": [
    "# Compute mean and covariance of the posterior distribution\n",
    "mu_s, cov_s = posterior(X, X_train, Y_train)\n",
    "\n",
    "samples = np.random.multivariate_normal(mu_s.ravel(), cov_s, 3)\n",
    "# plot_gp(mu_s, cov_s, X, X_train=X_train, Y_train=Y_train, samples=samples)\n"
   ]
  },
  {
   "cell_type": "markdown",
   "metadata": {},
   "source": [
    "## 1D Prediction from noisy training data"
   ]
  },
  {
   "cell_type": "code",
   "execution_count": null,
   "metadata": {},
   "outputs": [],
   "source": [
    "noise = 0.4\n",
    "\n",
    "# Noisy training data\n",
    "X_train = np.arange(-3, 4, 1).reshape(-1, 1)\n",
    "Y_train = np.sin(X_train) + noise * np.random.randn(*X_train.shape)\n",
    "\n",
    "# Compute mean and covariance of the posterior distribution\n",
    "mu_s, cov_s = posterior(X, X_train, Y_train, sigma_y=noise)\n",
    "\n",
    "samples = np.random.multivariate_normal(mu_s.ravel(), cov_s, 3)\n",
    "plot_gp(mu_s, cov_s, X, X_train=X_train, Y_train=Y_train, samples=samples)\n"
   ]
  },
  {
   "cell_type": "markdown",
   "metadata": {},
   "source": [
    "# Optimization"
   ]
  },
  {
   "cell_type": "markdown",
   "metadata": {},
   "source": [
    "Optimal values for the kernel parameters $l$ and $\\sigma_f$, as well as the noise parameter $\\sigma_y$ can be estimated by maximizing the log marginal likelihood which is given by\n",
    "\n",
    "$$\n",
    "\\log p(\\mathbf{y} \\lvert \\mathbf{X}) = \n",
    "\\log \\mathcal{N}(\\mathbf{y} \\lvert \\boldsymbol{0}, \\mathbf{K}_y) =\n",
    "-\\frac{1}{2} \\mathbf{y}^T \\mathbf{K}_y^{-1} \\mathbf{y} \n",
    "-\\frac{1}{2} \\log \\begin{vmatrix}\\mathbf{K}_y\\end{vmatrix} \n",
    "-\\frac{N}{2} \\log(2\\pi)\n",
    "$$\n",
    "\n",
    "We will minimize the negative log marginal likelihood w.r.t. parameters $l$ and $\\sigma_f$. $\\sigma_y$ is set to the known noise level of the data. If the noise level is unknown, σy can be estimated as well along with the other parameters."
   ]
  },
  {
   "cell_type": "code",
   "execution_count": null,
   "metadata": {},
   "outputs": [],
   "source": [
    "from numpy.linalg import cholesky, det\n",
    "from scipy.linalg import solve_triangular\n",
    "from scipy.optimize import minimize\n",
    "\n",
    "def nll_fn(X_train, Y_train, noise, naive=True):\n",
    "    \"\"\"\n",
    "    Returns a function that computes the negative log marginal\n",
    "    likelihood for training data X_train and Y_train and given\n",
    "    noise level.\n",
    "\n",
    "    Args:\n",
    "        X_train: training locations (m x d).\n",
    "        Y_train: training targets (m x 1).\n",
    "        noise: known noise level of Y_train.\n",
    "        naive: if True use a naive implementation of Eq. (11), if\n",
    "               False use a numerically more stable implementation.\n",
    "\n",
    "    Returns:\n",
    "        Minimization objective.\n",
    "    \"\"\"\n",
    "    \n",
    "    Y_train = Y_train.ravel()\n",
    "    \n",
    "    def nll_naive(theta):\n",
    "        # Naive implementation of the log marginal likelihood. Works well \n",
    "        # for the examples in this article but is numerically less stable \n",
    "        # compared to the implementation in nll_stable below.\n",
    "        K = kernel(X_train, X_train, l=theta[0], sigma_f=theta[1]) + \\\n",
    "            noise**2 * np.eye(len(X_train))\n",
    "        return 0.5 * np.log(det(K)) + \\\n",
    "               0.5 * Y_train.dot(inv(K).dot(Y_train)) + \\\n",
    "               0.5 * len(X_train) * np.log(2*np.pi)\n",
    "        \n",
    "    def nll_stable(theta):\n",
    "        # Numerically more stable implementation of the log marginal likelihood \n",
    "        # as described in http://www.gaussianprocess.org/gpml/chapters/RW2.pdf, \n",
    "        # Section 2.2, Algorithm 2.1.\n",
    "        \n",
    "        K = kernel(X_train, X_train, l=theta[0], sigma_f=theta[1]) + \\\n",
    "            noise**2 * np.eye(len(X_train))\n",
    "        L = cholesky(K)\n",
    "        \n",
    "        S1 = solve_triangular(L, Y_train, lower=True)\n",
    "        S2 = solve_triangular(L.T, S1, lower=False)\n",
    "        \n",
    "        return np.sum(np.log(np.diagonal(L))) + \\\n",
    "               0.5 * Y_train.dot(S2) + \\\n",
    "               0.5 * len(X_train) * np.log(2*np.pi)\n",
    "\n",
    "    if naive:\n",
    "        return nll_naive\n",
    "    else:\n",
    "        return nll_stable\n",
    "\n",
    "# Minimize the negative log-likelihood w.r.t. parameters l and sigma_f.\n",
    "# We should actually run the minimization several times with different\n",
    "# initializations to avoid local minima but this is skipped here for\n",
    "# simplicity.\n",
    "res = minimize(nll_fn(X_train, Y_train, noise), [1, 1], \n",
    "               bounds=((1e-5, None), (1e-5, None)),\n",
    "               method='L-BFGS-B')\n",
    "\n",
    "# Store the optimization results in global variables so that we can\n",
    "# compare it later with the results from other implementations.\n",
    "l_opt, sigma_f_opt = res.x\n",
    "\n",
    "# Compute posterior mean and covariance with optimized kernel parameters and plot the results\n",
    "mu_s, cov_s = posterior(X, X_train, Y_train, l=l_opt, sigma_f=sigma_f_opt, sigma_y=noise)\n",
    "# plot_gp(mu_s, cov_s, X, X_train=X_train, Y_train=Y_train)"
   ]
  },
  {
   "cell_type": "markdown",
   "metadata": {},
   "source": [
    "### 3D Space"
   ]
  },
  {
   "cell_type": "code",
   "execution_count": null,
   "metadata": {},
   "outputs": [],
   "source": [
    "rx, ry = np.arange(-5, 5, 0.3), np.arange(-5, 5, 0.3)\n",
    "gx, gy = np.meshgrid(rx, rx)\n",
    "\n",
    "noise_2D = 0.1\n",
    "\n",
    "X_2D_train = np.random.uniform(-4, 4, (100, 2))\n",
    "Y_2D_train = np.sin(0.5 * np.linalg.norm(X_2D_train, axis=1)) + \\\n",
    "             noise_2D * np.random.randn(len(X_2D_train))\n",
    "Y_2D_train"
   ]
  },
  {
   "cell_type": "markdown",
   "metadata": {},
   "source": [
    "## Generate Meson data"
   ]
  },
  {
   "cell_type": "code",
   "execution_count": null,
   "metadata": {},
   "outputs": [],
   "source": [
    "q_content = np.random.randint(2, size=(10))\n",
    "isospin = np.linspace(0, 1.5, 4) \n",
    "ang_momentum = np.arange(0, 4.5, 0.5) \n",
    "parity = np.array([-1, 1])\n",
    "\n",
    "# Create new data\n",
    "def choose(quantity):\n",
    "    return np.array(np.random.choice(quantity))\n",
    "\n",
    "X = np.empty([50, 13])\n",
    "\n",
    "for i in range(50):\n",
    "    X[i] = np.append(q_content, (choose(isospin), choose(ang_momentum), choose(parity)))\n"
   ]
  },
  {
   "cell_type": "markdown",
   "metadata": {},
   "source": [
    "## Using `sklearn`"
   ]
  },
  {
   "cell_type": "markdown",
   "metadata": {},
   "source": [
    "For Gaussian processes, we need to add an additional value to distinguish between different particles that constitute the same vector, ranked in order of their masses. From the paper, we will also be using the squared exponential (SE) and rational quadratic (RQ) kernels."
   ]
  },
  {
   "cell_type": "code",
   "execution_count": 2,
   "metadata": {},
   "outputs": [],
   "source": [
    "from sklearn.preprocessing import StandardScaler\n",
    "from sklearn.metrics import mean_absolute_error\n",
    "from sklearn.gaussian_process import GaussianProcessRegressor\n",
    "from sklearn.model_selection import LeaveOneOut, train_test_split\n",
    "from sklearn.gaussian_process.kernels import ConstantKernel, RBF, RationalQuadratic"
   ]
  },
  {
   "cell_type": "markdown",
   "metadata": {},
   "source": [
    "## Mesons"
   ]
  },
  {
   "cell_type": "markdown",
   "metadata": {},
   "source": [
    "*Question: How do you handle K-short and K-long?*"
   ]
  },
  {
   "cell_type": "code",
   "execution_count": 5,
   "metadata": {},
   "outputs": [
    {
     "data": {
      "text/plain": [
       "'E:\\\\Hasnain\\\\Uni\\\\AGenCy Lab\\\\Codebase\\\\gp\\\\freitas-krasserm-turner'"
      ]
     },
     "execution_count": 5,
     "metadata": {},
     "output_type": "execute_result"
    }
   ],
   "source": [
    "import os\n",
    "os.getcwd()"
   ]
  },
  {
   "cell_type": "code",
   "execution_count": 4,
   "metadata": {},
   "outputs": [],
   "source": [
    "data_file = '../baryons-from-mesons/GaussianProcess/data/mesoninputs.dat'\n",
    "target_file = '../baryons-from-mesons/GaussianProcess/data/mMass.dat'\n",
    "\n",
    "data = np.loadtxt(data_file)\n",
    "target = np.loadtxt(target_file)"
   ]
  },
  {
   "cell_type": "code",
   "execution_count": 7,
   "metadata": {},
   "outputs": [],
   "source": [
    "# Without the following unknown quark contents:\n",
    "# f2, a2(1320), π2, η2(1645), a2(1700), η2(1870) \n",
    "X = np.array([[1, 0, 0, 1, 0, 0, 0, 0, 0, 0, 1, 0, -1, 0],\n",
    "              [0, 1, 1, 0, 0, 0, 0, 0, 0, 0, 1, 0, -1, 0],\n",
    "              [1, 1, 1, 1, 0, 0, 0, 0, 0, 0, 1, 0, -1, 0],\n",
    "              [1, 1, 1, 1, 1, 1, 0, 0, 0, 0, 0, 0, -1, 0], # η\n",
    "              [1, 1, 1, 1, 1, 1, 0, 0, 0, 0, 0, 0, -1, 1], # η'\n",
    "              [1, 0, 0, 1, 0, 0, 0, 0, 0, 0, 1, 1, -1, 0],\n",
    "              [0, 1, 1, 0, 0, 0, 0, 0, 0, 0, 1, 1, -1, 0],\n",
    "              [1, 1, 1, 1, 0, 0, 0, 0, 0, 0, 1, 1, -1, 0],\n",
    "              [1, 1, 1, 1, 0, 0, 0, 0, 0, 0, 0, 1, -1, 0],\n",
    "              [0, 0, 0, 0, 1, 1, 0, 0, 0, 0, 0, 1, -1, 0],\n",
    "              [1, 0, 0, 0, 0, 1, 0, 0, 0, 0, 0.5, 0, -1, 0],\n",
    "              [0, 1, 0, 0, 1, 0, 0, 0, 0, 0, 0.5, 0, -1, 0],\n",
    "              [0, 0, 1, 0, 0, 1, 0, 0, 0, 0, 0.5, 0, -1, 0],\n",
    "              [0, 0, 0, 1, 1, 0, 0, 0, 0, 0, 0.5, 0, -1, 0],\n",
    "              [0, 0, 1, 1, 1, 1, 0, 0, 0, 0, 0.5, 0, -1, 0], #K-short\n",
    "              [0, 0, 1, 1, 1, 1, 0, 0, 0, 0, 0.5, 0, -1, 0], #K-long\n",
    "              [1, 0, 0, 0, 0, 1, 0, 0, 0, 0, 0.5, 1, -1, 0],\n",
    "              [0, 1, 0, 0, 1, 0, 0, 0, 0, 0, 0.5, 1, -1, 0],\n",
    "              [0, 0, 1, 0, 0, 1, 0, 0, 0, 0, 0.5, 1, -1, 0],\n",
    "              [0, 0, 0, 1, 1, 0, 0, 0, 0, 0, 0.5, 1, -1, 0]])\n",
    "\n",
    "Y = np.array([139.57039, 139.57039, 134.9768, 547.862, 957.78, 775.4, 775.4, 775.49, 782.65, 1019.461,\n",
    "              493.677, 493.677, 497.611, 497.611, 497.614, 497.614, 891.66, 891.66, 895.55, 895.55])"
   ]
  },
  {
   "cell_type": "code",
   "execution_count": null,
   "metadata": {},
   "outputs": [],
   "source": [
    "# With all particles\n",
    "# Unknown quark contents set to 0\n",
    "X = np.array([[1, 0, 0, 1, 0, 0, 0, 0, 0, 0, 1, 0, -1, 0],\n",
    "              [0, 1, 1, 0, 0, 0, 0, 0, 0, 0, 1, 0, -1, 0],\n",
    "              [1, 1, 1, 1, 0, 0, 0, 0, 0, 0, 1, 0, -1, 0],\n",
    "              [1, 1, 1, 1, 1, 1, 0, 0, 0, 0, 0, 0, -1, 0], # η\n",
    "              [1, 1, 1, 1, 1, 1, 0, 0, 0, 0, 0, 0, -1, 1], # η'\n",
    "              [1, 0, 0, 1, 0, 0, 0, 0, 0, 0, 1, 1, -1, 0],\n",
    "              [0, 1, 1, 0, 0, 0, 0, 0, 0, 0, 1, 1, -1, 0],\n",
    "              [1, 1, 1, 1, 0, 0, 0, 0, 0, 0, 1, 1, -1, 0],\n",
    "              [1, 1, 1, 1, 0, 0, 0, 0, 0, 0, 0, 1, -1, 0],\n",
    "              [0, 0, 0, 0, 1, 1, 0, 0, 0, 0, 0, 1, -1, 0],\n",
    "              [0, 0, 0, 0, 0, 0, 0, 0, 0, 0, 0, 2, 1, 0],     # f2\n",
    "              [0, 0, 0, 0, 0, 0, 0, 0, 0, 0, 1, 2, 1, 0],     # a2(1320)\n",
    "              [0, 0, 0, 0, 0, 0, 0, 0, 0, 0, 1, 2, -1, 0],    # π2\n",
    "              [0, 0, 0, 0, 0, 0, 0, 0, 0, 0, 0, 2, -1, 0],    # η2(1645)\n",
    "              [0, 0, 0, 0, 0, 0, 0, 0, 0, 0, 1, 2, 1, 1],     # a2(1700) \n",
    "              [0, 0, 0, 0, 0, 0, 0, 0, 0, 0, 0, 2, -1, 1],    # η2(1870)\n",
    "              [1, 0, 0, 0, 0, 1, 0, 0, 0, 0, 0.5, 0, -1, 0],\n",
    "              [0, 1, 0, 0, 1, 0, 0, 0, 0, 0, 0.5, 0, -1, 0],\n",
    "              [0, 0, 1, 0, 0, 1, 0, 0, 0, 0, 0.5, 0, -1, 0],\n",
    "              [0, 0, 0, 1, 1, 0, 0, 0, 0, 0, 0.5, 0, -1, 0],\n",
    "              [0, 0, 1, 1, 1, 1, 0, 0, 0, 0, 0.5, 0, -1, 0], # K-short\n",
    "              [0, 0, 1, 1, 1, 1, 0, 0, 0, 0, 0.5, 0, -1, 0], # K-long\n",
    "              [1, 0, 0, 0, 0, 1, 0, 0, 0, 0, 0.5, 1, -1, 0],\n",
    "              [0, 1, 0, 0, 1, 0, 0, 0, 0, 0, 0.5, 1, -1, 0],\n",
    "              [0, 0, 1, 0, 0, 1, 0, 0, 0, 0, 0.5, 1, -1, 0],\n",
    "              [0, 0, 0, 1, 1, 0, 0, 0, 0, 0, 0.5, 1, -1, 0]])\n",
    "\n",
    "Y = np.array([139.57039, 139.57039, 134.9768, 547.862, 957.78, 775.4, 775.4, 775.49, 782.65, 1019.461,\n",
    "              1275.5, 1316.9, 1670.6, 1617.0, 1705.0, 1842, # unknown quark contents\n",
    "              493.677, 493.677, 497.611, 497.611, 497.614, 497.614, 891.66, 891.66, 895.55, 895.55])"
   ]
  },
  {
   "cell_type": "code",
   "execution_count": 4,
   "metadata": {},
   "outputs": [],
   "source": [
    "# Normalize log masses to have 0 mean and unit variance\n",
    "scaler = StandardScaler()\n",
    "Y_log = np.log(Y)\n",
    "\n",
    "# Not needed if passing `normalize_y=True` when constructing GP object\n",
    "Y_normalized = scaler.fit_transform(Y_log.reshape(-1, 1)).ravel()"
   ]
  },
  {
   "cell_type": "markdown",
   "metadata": {},
   "source": [
    "## Kernels"
   ]
  },
  {
   "cell_type": "markdown",
   "metadata": {},
   "source": [
    "Recall the covariance function\n",
    "\n",
    "$$\\mathrm{cov}(\\mathbf{x}_i,\\mathbf{x}_j) = \\kappa(\\mathbf{x}_i,\\mathbf{x}_j) + N_{i,j} \\;, \\text{where} \\; N_{i,j} = \\sigma_y^2 \\delta_{i,j}$$\n",
    "\n",
    "where the squared exponential can be written as\n",
    "\n",
    "$$\n",
    "K_{\\textrm{SE}}(\\mathbf{x}_i,\\mathbf{x}_j) =\n",
    "\\sigma_f^2 \\exp\\left(-\\frac{1}{2l^2}\n",
    "  (\\mathbf{x}_i - \\mathbf{x}_j)^T\n",
    "  (\\mathbf{x}_i - \\mathbf{x}_j)\\right)\n",
    "$$\n",
    "\n",
    "and the rational quadratic kernel is\n",
    "\n",
    "$$\n",
    "K_{\\textrm{RQ}}(\\mathbf{x}_i,\\mathbf{x}_j) =\n",
    "\\sigma_f^2 \\exp\\left(1 + \\frac{1}{2 \\alpha}\n",
    "  (\\mathbf{x}_i - \\mathbf{x}_j)^T\n",
    "  (\\mathbf{x}_i - \\mathbf{x}_j)\\right)^{-\\alpha}\n",
    "$$\n",
    "\n",
    "The prior's covariance is specified by the kernel function. The prior mean is assumed to be data's mean if `normalize_y=True`is passed, and set to constant and $0$ otherwise. \n",
    "\n",
    "Hyperparameters of the kernel are optimized during fitting by maximizing the log-marginal-likelihood, based on the passed optimizer. Optimizer can be started repeatedly by specifying the `n_restarts_optimizer` parameter, as it may have multiple local optima.\n",
    "\n",
    "Starting from the initial hyperparameter values of the kernel, subsequent runs are conducted from hyperparameter values that have been chosen randomly from the range of allowed values.\n",
    "\n",
    "The noise level in the targets can be specified by passing it via the parameter `alpha`, either globally as a scalar or per datapoint. This is added to the diagonal of the kernel matrix during fitting. It can also be interpreted as the variance of additional Gaussian measurement noise on the training observations.\n",
    "\n",
    "The `RBF` kernel only has an `l` parameter which corresponds to the `length_scale` parameter. To have a $\\sigma_f$ parameter as well, we have to compose the `RBF` kernel with a `ConstantKernel`. `l` can either be a scalar (isotropic variant of the kernel) or a vector with the same number of dimensions as the inputs X (anisotropic variant of the kernel).\n",
    "\n",
    "The `RationalQuadratic` kernel is parameterized by a length scale parameter $l > 0$ and a scale mixture parameter $\\alpha > 0$. Only the isotropic variant where `length_scale` is a scalar is supported by `sklearn`."
   ]
  },
  {
   "cell_type": "code",
   "execution_count": 6,
   "metadata": {},
   "outputs": [],
   "source": [
    "# Reshape Y_log or Y_normalized to (-1, 1) if adding noise\n",
    "Y_log = Y_log.reshape(-1, 1)\n",
    "Y_normalized = Y_normalized.reshape(-1, 1)"
   ]
  },
  {
   "cell_type": "code",
   "execution_count": 7,
   "metadata": {},
   "outputs": [
    {
     "data": {
      "text/plain": [
       "(6.296347305073987, 0.6286352637696876)"
      ]
     },
     "execution_count": 7,
     "metadata": {},
     "output_type": "execute_result"
    }
   ],
   "source": [
    "np.mean(Y_log), np.std(Y_log)"
   ]
  },
  {
   "cell_type": "code",
   "execution_count": 5,
   "metadata": {},
   "outputs": [],
   "source": [
    "noise = 0.4\n",
    "rbf = ConstantKernel(1.0) * RBF(length_scale=1.0)\n",
    "# rq = ConstantKernel(1.0) * RationalQuadratic(length_scale=1.0, alpha=1.0)\n",
    "\n",
    "# Set GP prior to training data's mean and cov with kernel\n",
    "gpr = GaussianProcessRegressor(kernel=rbf, alpha=noise**2, n_restarts_optimizer=10)#, normalize_y=True)\n",
    "# gpr = GaussianProcessRegressor(kernel=rq, alpha=noise**2, normalize_y=True)\n",
    "\n",
    "# Add noise if needed\n",
    "# Y_noisy = Y_log + noise * np.random.randn(*X.shape)"
   ]
  },
  {
   "cell_type": "code",
   "execution_count": 6,
   "metadata": {},
   "outputs": [
    {
     "name": "stdout",
     "output_type": "stream",
     "text": [
      "X_Train:  (156, 14) X_Test:  (40, 14) Y_train:  (156,) Y_test:  (40,)\n",
      "Y_test:  [7.28961052 9.24524409 7.15609863 7.6098622  7.53350653 7.24636808\n",
      " 7.60601935 7.26192709 6.20981865 9.20152261 7.48211892 6.79308489\n",
      " 6.92702934 6.65319846 7.26192709 7.53092518 7.59337419 7.42057891\n",
      " 6.71417053 8.65512738 7.90407641 8.13584785 7.90407641 9.20021933\n",
      " 7.25049356 7.4489161  7.74846002 8.58800201 7.53350653 8.00098645\n",
      " 9.19618465 9.15485937 7.45007957 4.93857064 7.29573507 7.17011954\n",
      " 8.33009223 7.41878088 8.36030544 6.30602343]\n"
     ]
    }
   ],
   "source": [
    "# 80-20 train-test split\n",
    "# Replace the Y's with Y_log, Y_normalized, or Y_noisy as needed\n",
    "X_train, X_test, Y_train, Y_test = train_test_split(data, target, test_size=0.2, shuffle=True)\n",
    "\n",
    "print('X_Train: ', X_train.shape, 'X_Test: ', X_test.shape, 'Y_train: ', Y_train.shape, 'Y_test: ', Y_test.shape)\n",
    "print('Y_test: ', Y_test)"
   ]
  },
  {
   "cell_type": "code",
   "execution_count": 10,
   "metadata": {},
   "outputs": [
    {
     "data": {
      "text/plain": [
       "824.0000000000003"
      ]
     },
     "execution_count": 10,
     "metadata": {},
     "output_type": "execute_result"
    }
   ],
   "source": [
    "# Test: Convert changing normalized log value back to MeV scale\n",
    "np.exp(Y_test[0])\n",
    "\n",
    "# np.exp((-0.13763566 * np.std(Y_log)) + np.mean(Y_log))"
   ]
  },
  {
   "cell_type": "markdown",
   "metadata": {},
   "source": [
    "### Training to find posterior mean and covariance"
   ]
  },
  {
   "cell_type": "code",
   "execution_count": 47,
   "metadata": {},
   "outputs": [
    {
     "name": "stdout",
     "output_type": "stream",
     "text": [
      "[7.31330756 7.03480073 7.08162135 7.52912282 7.49937136 6.75487728\n",
      " 7.30621431 7.09165322 7.85528875 9.60193265 6.86553345 7.45365165\n",
      " 7.20816103 8.52984972 7.37773707 9.4217269  7.59667124 7.80766808\n",
      " 8.57163615 8.40709022 7.43183658 8.43157316 7.69498711 7.68240831\n",
      " 6.85745233 7.73902341 7.56233116 6.91699245 7.34969482 7.55854175\n",
      " 7.22897943 7.45994807 7.35532431 8.27871608 7.41859968 8.43432884\n",
      " 8.48793987 7.08439256 7.43209873 7.52832662] \n",
      " [0.10702762 0.13541697 0.12678113 0.1562794  0.14615627 0.12235787\n",
      " 0.16325032 0.11360387 0.13294545 0.13500428 0.12869726 0.12987366\n",
      " 0.11096949 0.14191149 0.12500914 0.25301862 0.1762504  0.14188392\n",
      " 0.14360222 0.25197963 0.16117415 0.14043943 0.16637364 0.14736353\n",
      " 0.12625084 0.18511849 0.19816914 0.12775948 0.12535203 0.12320215\n",
      " 0.12372542 0.11929286 0.11172517 0.11286409 0.14309397 0.2033428\n",
      " 0.13949977 0.11165136 0.12140862 0.15121799] \n",
      " (40,) \n",
      " (40,)\n",
      "RMSE:  0.2652830820650423\n",
      "17.639777937261048 7.205476226855695\n"
     ]
    }
   ],
   "source": [
    "# Declare cache\n",
    "results = {'mean': np.zeros((iter, X_test.shape[0])), 'cov': np.zeros((iter, X_test.shape[0])),\n",
    "           'length_scales': np.zeros(iter), 'sigma_f': np.zeros(iter)}\n",
    "\n",
    "# Reuse training data\n",
    "gpr.fit(X_train, Y_train)\n",
    "\n",
    "mean, cov = gpr.predict(X_test, return_std=True)\n",
    "\n",
    "# Obtain optimized kernel parameters\n",
    "l = gpr.kernel_.k2.get_params()['length_scale']\n",
    "sigma_f = np.sqrt(gpr.kernel_.k1.get_params()['constant_value'])\n",
    "\n",
    "print(mean, '\\n', cov, '\\n', mean.shape, '\\n', cov.shape)\n",
    "print('RMSE: ', mean_absolute_error(Y_test, mean))\n",
    "print(l, sigma_f)"
   ]
  },
  {
   "cell_type": "code",
   "execution_count": 90,
   "metadata": {},
   "outputs": [
    {
     "name": "stdout",
     "output_type": "stream",
     "text": [
      "Current hyperparams: \n",
      " noise: 0.0025000000000000005, constant_value: 0.6, length_scale: 0.6\n"
     ]
    },
    {
     "data": {
      "image/png": "[encoded data removed]",
      "text/plain": [
       "<Figure size 720x576 with 1 Axes>"
      ]
     },
     "metadata": {
      "needs_background": "light"
     },
     "output_type": "display_data"
    },
    {
     "name": "stdout",
     "output_type": "stream",
     "text": [
      "Current hyperparams: \n",
      " noise: 0.010000000000000002, constant_value: 0.7, length_scale: 0.7\n"
     ]
    },
    {
     "data": {
      "image/png": "[encoded data removed]",
      "text/plain": [
       "<Figure size 720x576 with 1 Axes>"
      ]
     },
     "metadata": {
      "needs_background": "light"
     },
     "output_type": "display_data"
    },
    {
     "name": "stdout",
     "output_type": "stream",
     "text": [
      "Current hyperparams: \n",
      " noise: 0.022500000000000006, constant_value: 0.7999999999999999, length_scale: 0.7999999999999999\n"
     ]
    },
    {
     "data": {
      "image/png": "[encoded data removed]",
      "text/plain": [
       "<Figure size 720x576 with 1 Axes>"
      ]
     },
     "metadata": {
      "needs_background": "light"
     },
     "output_type": "display_data"
    },
    {
     "name": "stdout",
     "output_type": "stream",
     "text": [
      "Current hyperparams: \n",
      " noise: 0.04000000000000001, constant_value: 0.8999999999999999, length_scale: 0.8999999999999999\n"
     ]
    },
    {
     "data": {
      "image/png": "[encoded data removed]",
      "text/plain": [
       "<Figure size 720x576 with 1 Axes>"
      ]
     },
     "metadata": {
      "needs_background": "light"
     },
     "output_type": "display_data"
    },
    {
     "name": "stdout",
     "output_type": "stream",
     "text": [
      "Current hyperparams: \n",
      " noise: 0.0625, constant_value: 0.9999999999999999, length_scale: 0.9999999999999999\n"
     ]
    },
    {
     "data": {
      "image/png": "[encoded data removed]",
      "text/plain": [
       "<Figure size 720x576 with 1 Axes>"
      ]
     },
     "metadata": {
      "needs_background": "light"
     },
     "output_type": "display_data"
    },
    {
     "name": "stdout",
     "output_type": "stream",
     "text": [
      "Current hyperparams: \n",
      " noise: 0.09, constant_value: 1.0999999999999999, length_scale: 1.0999999999999999\n"
     ]
    },
    {
     "data": {
      "image/png": "[encoded data removed]",
      "text/plain": [
       "<Figure size 720x576 with 1 Axes>"
      ]
     },
     "metadata": {
      "needs_background": "light"
     },
     "output_type": "display_data"
    }
   ],
   "source": [
    "noise = np.arange(0.05, 0.55, 0.05)\n",
    "constant_value = np.arange(0.6, 1.2, 0.1)\n",
    "length_scale = np.arange(0.6, 1.2, 0.1)\n",
    "# for rq kernel\n",
    "alpha = np.arange(0.6, 1.2, 0.1)\n",
    "\n",
    "hyperparams = list(zip(noise, constant_value, length_scale, alpha))\n",
    "\n",
    "# For writing results to file\n",
    "results_df = pd.DataFrame()\n",
    "\n",
    "for counter, params in enumerate(hyperparams):\n",
    "    print(f'Current hyperparams: \\n noise: {params[0]**2}, constant_value: {params[1]}, length_scale: {params[2]}')\n",
    "\n",
    "    rbf = ConstantKernel(params[1]) * RBF(length_scale=params[2])\n",
    "    # rq = ConstantKernel(1.0) * RationalQuadratic(length_scale=1.0, alpha=1.0)\n",
    "\n",
    "    # Set GP prior to training data's mean and cov with kernel\n",
    "    gpr = GaussianProcessRegressor(kernel=rbf, alpha=params[0]**2, n_restarts_optimizer=10)\n",
    "\n",
    "    gpr.fit(X_train, Y_train)\n",
    "    mean, cov = gpr.predict(X_test, return_std=True)\n",
    "\n",
    "    # Obtain optimized kernel parameters\n",
    "    l = gpr.kernel_.k2.get_params()['length_scale']\n",
    "    sigma_f = np.sqrt(gpr.kernel_.k1.get_params()['constant_value'])\n",
    "    \n",
    "    # Store current iteration data\n",
    "    current_results_df = pd.DataFrame({'run': counter, 'measured': Y_test, 'predicted': mean, 'variance': cov,\n",
    "                            'rmse': mean_absolute_error(Y_test, mean), 'alpha': params[0]**2,\n",
    "                            'initial_length scale': params[2], 'initial_sigma_f': params[1],\n",
    "                            'trained_length_scale': l, 'trained_sigma_f': sigma_f})\n",
    "    \n",
    "    # Draw plots\n",
    "    plotter(Y_test, mean, cov)\n",
    "    \n",
    "    # Join dataframes to save \n",
    "    results_df = pd.concat([results_df, current_results_df])\n",
    "    \n",
    "# write to file\n",
    "results_df.to_csv('results.csv', index=False)"
   ]
  },
  {
   "cell_type": "code",
   "execution_count": 77,
   "metadata": {},
   "outputs": [
    {
     "data": {
      "text/plain": [
       "(40, 8)"
      ]
     },
     "execution_count": 77,
     "metadata": {},
     "output_type": "execute_result"
    }
   ],
   "source": [
    "results_df.shape"
   ]
  },
  {
   "cell_type": "code",
   "execution_count": 89,
   "metadata": {},
   "outputs": [],
   "source": [
    "def plotter(ground_truth, prediction, cov):\n",
    "    # Plot the mean and variances\n",
    "    fig, ax = plt.subplots(figsize=(10, 8))\n",
    "\n",
    "    # Set font size\n",
    "    FONT_MEDIUM = 20\n",
    "    plt.rc('axes', labelsize=FONT_MEDIUM)    # fontsize of the x and y labelsb\n",
    "\n",
    "    ax.scatter(ground_truth, prediction)\n",
    "    ax.errorbar(ground_truth, prediction, yerr=cov, linestyle='None')\n",
    "    ax.set_ylabel('Predicted mass (MeV, Log Scale)')\n",
    "    ax.set_xlabel('Measured mass (MeV, Log Scale)')\n",
    "    plt.show()"
   ]
  },
  {
   "cell_type": "markdown",
   "metadata": {},
   "source": [
    "### LOOCV"
   ]
  },
  {
   "cell_type": "code",
   "execution_count": 11,
   "metadata": {},
   "outputs": [
    {
     "name": "stdout",
     "output_type": "stream",
     "text": [
      "log y_star:  [[4.93856906]]\n",
      "Predicted y_star:  [[5.76014688]]\n",
      "Predicted std:  [0.32051062]\n",
      "Test index:  [0]\n"
     ]
    }
   ],
   "source": [
    "# Leave-one-out\n",
    "loo = LeaveOneOut()\n",
    "n_splits = loo.get_n_splits(X)\n",
    "\n",
    "l = []\n",
    "mu = []\n",
    "cov = []\n",
    "sigma_f = []\n",
    "for train_index, test_index in loo.split(X):\n",
    "#     print('Train index: ', train_index, 'Test index: ', test_index)\n",
    "    X_star, X_train = X[test_index], X[train_index]\n",
    "    \n",
    "    # Replace the Y's with Y_log, Y_normalized, or Y_noisy as needed\n",
    "    Y_star, Y_train = Y_log[test_index], Y_log[train_index]\n",
    "    \n",
    "    # Reuse training data\n",
    "    gpr.fit(X_train, Y_train)\n",
    "\n",
    "    # Compute posterior mean and covariance\n",
    "    # Y_star\n",
    "    mu_s, cov_s = gpr.predict(X_star, return_std=True)\n",
    "    mu.append(mu_s)\n",
    "    cov.append(cov_s)\n",
    "    \n",
    "    print('log y_star: ', Y_star)\n",
    "    print('Predicted y_star: ', mu_s)\n",
    "    print('Predicted std: ', cov_s)\n",
    "    print('Test index: ', test_index)\n",
    "    \n",
    "    # Obtain optimized kernel parameters\n",
    "    l.append(gpr.kernel_.k2.get_params()['length_scale'])\n",
    "    sigma_f.append(np.sqrt(gpr.kernel_.k1.get_params()['constant_value']))\n",
    "    break\n",
    "\n",
    "# Plot the results\n",
    "# plot_gp(mu_s, cov_s, X, X_train=X_train, Y_train=Y_train)\n"
   ]
  }
 ],
 "metadata": {
  "interpreter": {
   "hash": "b3ba2566441a7c06988d0923437866b63cedc61552a5af99d1f4fb67d367b25f"
  },
  "kernelspec": {
   "display_name": "Python 3",
   "language": "python",
   "name": "python3"
  },
  "language_info": {
   "codemirror_mode": {
    "name": "ipython",
    "version": 3
   },
   "file_extension": ".py",
   "mimetype": "text/x-python",
   "name": "python",
   "nbconvert_exporter": "python",
   "pygments_lexer": "ipython3",
   "version": "3.8.8"
  }
 },
 "nbformat": 4,
 "nbformat_minor": 4
}
